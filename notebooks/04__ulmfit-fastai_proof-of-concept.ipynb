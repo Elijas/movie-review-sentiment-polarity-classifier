{
  "nbformat": 4,
  "nbformat_minor": 0,
  "metadata": {
    "colab": {
      "name": "04__ulmfit-fastai_proof-of-concept",
      "version": "0.3.2",
      "provenance": [],
      "collapsed_sections": [],
      "include_colab_link": true
    },
    "kernelspec": {
      "name": "python3",
      "display_name": "Python 3"
    },
    "accelerator": "GPU"
  },
  "cells": [
    {
      "cell_type": "markdown",
      "metadata": {
        "id": "view-in-github",
        "colab_type": "text"
      },
      "source": [
        "<a href=\"https://colab.research.google.com/github/Elijas/movie-review-sentiment-polarity-classifier/blob/master/notebook/04__ulmfit_fastai_proof_of_concept.ipynb\" target=\"_parent\"><img src=\"https://colab.research.google.com/assets/colab-badge.svg\" alt=\"Open In Colab\"/></a>"
      ]
    },
    {
      "cell_type": "code",
      "metadata": {
        "id": "dJwwvpZAF0Qv",
        "colab_type": "code",
        "colab": {
          "base_uri": "https://localhost:8080/",
          "height": 217
        },
        "outputId": "06f46e75-1c55-4f81-80a8-86c7e3dc5a5e"
      },
      "source": [
        "!wget http://files.fast.ai/models/wt103/fwd_wt103.h5"
      ],
      "execution_count": 1,
      "outputs": [
        {
          "output_type": "stream",
          "text": [
            "--2019-08-04 15:38:56--  http://files.fast.ai/models/wt103/fwd_wt103.h5\n",
            "Resolving files.fast.ai (files.fast.ai)... 67.205.15.147\n",
            "Connecting to files.fast.ai (files.fast.ai)|67.205.15.147|:80... connected.\n",
            "HTTP request sent, awaiting response... 200 OK\n",
            "Length: 462387687 (441M)\n",
            "Saving to: ‘fwd_wt103.h5.1’\n",
            "\n",
            "fwd_wt103.h5.1      100%[===================>] 440.97M   105MB/s    in 4.3s    \n",
            "\n",
            "2019-08-04 15:39:00 (102 MB/s) - ‘fwd_wt103.h5.1’ saved [462387687/462387687]\n",
            "\n"
          ],
          "name": "stdout"
        }
      ]
    },
    {
      "cell_type": "code",
      "metadata": {
        "id": "hTDGsVGUHm-s",
        "colab_type": "code",
        "colab": {
          "base_uri": "https://localhost:8080/",
          "height": 217
        },
        "outputId": "26e17017-2bae-4165-adfc-661616f92979"
      },
      "source": [
        "!wget http://files.fast.ai/models/wt103/bwd_wt103.h5"
      ],
      "execution_count": 2,
      "outputs": [
        {
          "output_type": "stream",
          "text": [
            "--2019-08-04 15:39:01--  http://files.fast.ai/models/wt103/bwd_wt103.h5\n",
            "Resolving files.fast.ai (files.fast.ai)... 67.205.15.147\n",
            "Connecting to files.fast.ai (files.fast.ai)|67.205.15.147|:80... connected.\n",
            "HTTP request sent, awaiting response... 200 OK\n",
            "Length: 462387687 (441M)\n",
            "Saving to: ‘bwd_wt103.h5.1’\n",
            "\n",
            "bwd_wt103.h5.1      100%[===================>] 440.97M   107MB/s    in 4.3s    \n",
            "\n",
            "2019-08-04 15:39:05 (102 MB/s) - ‘bwd_wt103.h5.1’ saved [462387687/462387687]\n",
            "\n"
          ],
          "name": "stdout"
        }
      ]
    },
    {
      "cell_type": "code",
      "metadata": {
        "id": "zEKOJH5MGlEr",
        "colab_type": "code",
        "colab": {
          "base_uri": "https://localhost:8080/",
          "height": 217
        },
        "outputId": "5ff644b6-c664-4f38-8d96-b8e1b793e5fc"
      },
      "source": [
        "!wget http://files.fast.ai/models/wt103/itos_wt103.pkl"
      ],
      "execution_count": 3,
      "outputs": [
        {
          "output_type": "stream",
          "text": [
            "--2019-08-04 15:39:06--  http://files.fast.ai/models/wt103/itos_wt103.pkl\n",
            "Resolving files.fast.ai (files.fast.ai)... 67.205.15.147\n",
            "Connecting to files.fast.ai (files.fast.ai)|67.205.15.147|:80... connected.\n",
            "HTTP request sent, awaiting response... 200 OK\n",
            "Length: 4161252 (4.0M)\n",
            "Saving to: ‘itos_wt103.pkl.1’\n",
            "\n",
            "\ritos_wt103.pkl.1      0%[                    ]       0  --.-KB/s               \ritos_wt103.pkl.1     72%[=============>      ]   2.86M  13.6MB/s               \ritos_wt103.pkl.1    100%[===================>]   3.97M  18.0MB/s    in 0.2s    \n",
            "\n",
            "2019-08-04 15:39:06 (18.0 MB/s) - ‘itos_wt103.pkl.1’ saved [4161252/4161252]\n",
            "\n"
          ],
          "name": "stdout"
        }
      ]
    },
    {
      "cell_type": "code",
      "metadata": {
        "id": "9L-mYNWDBB4g",
        "colab_type": "code",
        "outputId": "f1b26014-fbf9-4f78-91bd-e1dbab95c2c4",
        "colab": {
          "base_uri": "https://localhost:8080/",
          "height": 799
        }
      },
      "source": [
        "!pip install torch_nightly -f https://download.pytorch.org/whl/nightly/cu92/torch_nightly.html\n",
        "!pip install fastai\n",
        "\n",
        "from pathlib import Path"
      ],
      "execution_count": 4,
      "outputs": [
        {
          "output_type": "stream",
          "text": [
            "Looking in links: https://download.pytorch.org/whl/nightly/cu92/torch_nightly.html\n",
            "Requirement already satisfied: torch_nightly in /usr/local/lib/python3.6/dist-packages (1.2.0.dev20190804+cu92)\n",
            "Requirement already satisfied: fastai in /usr/local/lib/python3.6/dist-packages (1.0.55)\n",
            "Requirement already satisfied: nvidia-ml-py3 in /usr/local/lib/python3.6/dist-packages (from fastai) (7.352.0)\n",
            "Requirement already satisfied: pandas in /usr/local/lib/python3.6/dist-packages (from fastai) (0.24.2)\n",
            "Requirement already satisfied: packaging in /usr/local/lib/python3.6/dist-packages (from fastai) (19.1)\n",
            "Requirement already satisfied: scipy in /usr/local/lib/python3.6/dist-packages (from fastai) (1.3.0)\n",
            "Requirement already satisfied: spacy>=2.0.18 in /usr/local/lib/python3.6/dist-packages (from fastai) (2.1.6)\n",
            "Requirement already satisfied: numexpr in /usr/local/lib/python3.6/dist-packages (from fastai) (2.6.9)\n",
            "Requirement already satisfied: pyyaml in /usr/local/lib/python3.6/dist-packages (from fastai) (3.13)\n",
            "Requirement already satisfied: requests in /usr/local/lib/python3.6/dist-packages (from fastai) (2.21.0)\n",
            "Requirement already satisfied: torchvision in /usr/local/lib/python3.6/dist-packages (from fastai) (0.3.0)\n",
            "Requirement already satisfied: dataclasses; python_version < \"3.7\" in /usr/local/lib/python3.6/dist-packages (from fastai) (0.6)\n",
            "Requirement already satisfied: torch>=1.0.0 in /usr/local/lib/python3.6/dist-packages (from fastai) (1.1.0)\n",
            "Requirement already satisfied: beautifulsoup4 in /usr/local/lib/python3.6/dist-packages (from fastai) (4.6.3)\n",
            "Requirement already satisfied: Pillow in /usr/local/lib/python3.6/dist-packages (from fastai) (4.3.0)\n",
            "Requirement already satisfied: typing; python_version < \"3.7\" in /usr/local/lib/python3.6/dist-packages (from fastai) (3.7.4)\n",
            "Requirement already satisfied: numpy>=1.15 in /usr/local/lib/python3.6/dist-packages (from fastai) (1.16.4)\n",
            "Requirement already satisfied: bottleneck in /usr/local/lib/python3.6/dist-packages (from fastai) (1.2.1)\n",
            "Requirement already satisfied: matplotlib in /usr/local/lib/python3.6/dist-packages (from fastai) (3.0.3)\n",
            "Requirement already satisfied: fastprogress>=0.1.19 in /usr/local/lib/python3.6/dist-packages (from fastai) (0.1.21)\n",
            "Requirement already satisfied: pytz>=2011k in /usr/local/lib/python3.6/dist-packages (from pandas->fastai) (2018.9)\n",
            "Requirement already satisfied: python-dateutil>=2.5.0 in /usr/local/lib/python3.6/dist-packages (from pandas->fastai) (2.5.3)\n",
            "Requirement already satisfied: six in /usr/local/lib/python3.6/dist-packages (from packaging->fastai) (1.12.0)\n",
            "Requirement already satisfied: pyparsing>=2.0.2 in /usr/local/lib/python3.6/dist-packages (from packaging->fastai) (2.4.2)\n",
            "Requirement already satisfied: attrs in /usr/local/lib/python3.6/dist-packages (from packaging->fastai) (19.1.0)\n",
            "Requirement already satisfied: srsly<1.1.0,>=0.0.6 in /usr/local/lib/python3.6/dist-packages (from spacy>=2.0.18->fastai) (0.0.7)\n",
            "Requirement already satisfied: murmurhash<1.1.0,>=0.28.0 in /usr/local/lib/python3.6/dist-packages (from spacy>=2.0.18->fastai) (1.0.2)\n",
            "Requirement already satisfied: thinc<7.1.0,>=7.0.8 in /usr/local/lib/python3.6/dist-packages (from spacy>=2.0.18->fastai) (7.0.8)\n",
            "Requirement already satisfied: plac<1.0.0,>=0.9.6 in /usr/local/lib/python3.6/dist-packages (from spacy>=2.0.18->fastai) (0.9.6)\n",
            "Requirement already satisfied: wasabi<1.1.0,>=0.2.0 in /usr/local/lib/python3.6/dist-packages (from spacy>=2.0.18->fastai) (0.2.2)\n",
            "Requirement already satisfied: preshed<2.1.0,>=2.0.1 in /usr/local/lib/python3.6/dist-packages (from spacy>=2.0.18->fastai) (2.0.1)\n",
            "Requirement already satisfied: blis<0.3.0,>=0.2.2 in /usr/local/lib/python3.6/dist-packages (from spacy>=2.0.18->fastai) (0.2.4)\n",
            "Requirement already satisfied: cymem<2.1.0,>=2.0.2 in /usr/local/lib/python3.6/dist-packages (from spacy>=2.0.18->fastai) (2.0.2)\n",
            "Requirement already satisfied: chardet<3.1.0,>=3.0.2 in /usr/local/lib/python3.6/dist-packages (from requests->fastai) (3.0.4)\n",
            "Requirement already satisfied: certifi>=2017.4.17 in /usr/local/lib/python3.6/dist-packages (from requests->fastai) (2019.6.16)\n",
            "Requirement already satisfied: urllib3<1.25,>=1.21.1 in /usr/local/lib/python3.6/dist-packages (from requests->fastai) (1.24.3)\n",
            "Requirement already satisfied: idna<2.9,>=2.5 in /usr/local/lib/python3.6/dist-packages (from requests->fastai) (2.8)\n",
            "Requirement already satisfied: olefile in /usr/local/lib/python3.6/dist-packages (from Pillow->fastai) (0.46)\n",
            "Requirement already satisfied: cycler>=0.10 in /usr/local/lib/python3.6/dist-packages (from matplotlib->fastai) (0.10.0)\n",
            "Requirement already satisfied: kiwisolver>=1.0.1 in /usr/local/lib/python3.6/dist-packages (from matplotlib->fastai) (1.1.0)\n",
            "Requirement already satisfied: tqdm<5.0.0,>=4.10.0 in /usr/local/lib/python3.6/dist-packages (from thinc<7.1.0,>=7.0.8->spacy>=2.0.18->fastai) (4.28.1)\n",
            "Requirement already satisfied: setuptools in /usr/local/lib/python3.6/dist-packages (from kiwisolver>=1.0.1->matplotlib->fastai) (41.0.1)\n"
          ],
          "name": "stdout"
        }
      ]
    },
    {
      "cell_type": "code",
      "metadata": {
        "id": "SA87AbrrBigr",
        "colab_type": "code",
        "colab": {}
      },
      "source": [
        "from functools import partial\n",
        "import io\n",
        "import os\n",
        "\n",
        "import pandas as pd\n",
        "import numpy as np\n",
        "import nltk\n",
        "import fastai\n",
        "from fastai import *\n",
        "from fastai.text import * \n",
        "from sklearn.model_selection import train_test_split\n",
        "\n",
        "nltk.download('punkt', quiet=True, raise_on_error=True)\n",
        "nltk.download('stopwords', quiet=True, raise_on_error=True)\n",
        "\n",
        "# Constants\n",
        "TEST_SPLIT_SIZE = 0.20\n",
        "RANDOMNESS_SEED = 45\n",
        "class PATHS:\n",
        "    CORPUS_FOLDER = Path('sentence-polarity-dataset-v1.0')\n",
        "    CORPUS_POS = CORPUS_FOLDER / 'rt-polarity.pos'\n",
        "    CORPUS_NEG = CORPUS_FOLDER / 'rt-polarity.neg'\n",
        "\n",
        "class LABELS:\n",
        "    NEG = 0\n",
        "    POS = 1\n",
        "    TITLES = {\n",
        "        NEG: \"Negative\",\n",
        "        POS: \"Positive\"\n",
        "    }\n",
        "\n",
        "# Options\n",
        "pd.set_option('display.max_colwidth', 100)"
      ],
      "execution_count": 0,
      "outputs": []
    },
    {
      "cell_type": "markdown",
      "metadata": {
        "id": "1cVgX2rzq1Uk",
        "colab_type": "text"
      },
      "source": [
        "# Load data"
      ]
    },
    {
      "cell_type": "code",
      "metadata": {
        "id": "JQlEKPCduXVO",
        "colab_type": "code",
        "colab": {
          "base_uri": "https://localhost:8080/",
          "height": 35
        },
        "outputId": "d27d7140-5a05-4db2-a2fd-c3f95dd19ee8"
      },
      "source": [
        "!git clone https://github.com/Elijas/sentence-polarity-dataset-v1.0.git"
      ],
      "execution_count": 6,
      "outputs": [
        {
          "output_type": "stream",
          "text": [
            "fatal: destination path 'sentence-polarity-dataset-v1.0' already exists and is not an empty directory.\n"
          ],
          "name": "stdout"
        }
      ]
    },
    {
      "cell_type": "code",
      "metadata": {
        "id": "tvzeS2CHucqR",
        "colab_type": "code",
        "colab": {}
      },
      "source": [
        "def read_file(path: Path):\n",
        "    with path.open('r', errors='replace') as file_:\n",
        "        return file_.readlines()\n",
        "\n",
        "corpus_neg, corpus_pos = read_file(PATHS.CORPUS_NEG), read_file(PATHS.CORPUS_POS)"
      ],
      "execution_count": 0,
      "outputs": []
    },
    {
      "cell_type": "markdown",
      "metadata": {
        "id": "zWJznphusHzd",
        "colab_type": "text"
      },
      "source": [
        "# Preprocess data"
      ]
    },
    {
      "cell_type": "markdown",
      "metadata": {
        "id": "k2ltdzYv2aUk",
        "colab_type": "text"
      },
      "source": [
        "### Structure into a dataset\n"
      ]
    },
    {
      "cell_type": "code",
      "metadata": {
        "id": "e1u8XNS0sHF1",
        "colab_type": "code",
        "colab": {
          "base_uri": "https://localhost:8080/",
          "height": 163
        },
        "outputId": "7d4d297d-1cfd-4323-e45a-786b1bf94998"
      },
      "source": [
        "text = corpus_neg + corpus_pos\n",
        "label = ([LABELS.NEG] * len(corpus_neg) + [LABELS.POS] * len(corpus_pos))\n",
        "dataset = pd.DataFrame({'label': label, 'text': text})\n",
        "dataset = dataset.sample(frac=1.00, random_state=RANDOMNESS_SEED)  # Shuffle the dataset\n",
        "\n",
        "# Show result\n",
        "print(f\"Dataset shape: {dataset.shape}\\nDataset row samples:\")\n",
        "print(dataset[:5].to_string(index=False))"
      ],
      "execution_count": 8,
      "outputs": [
        {
          "output_type": "stream",
          "text": [
            "Dataset shape: (10662, 2)\n",
            "Dataset row samples:\n",
            " label                                                                                                 text\n",
            "     1  there is simply no doubt that this film asks the right questions at the right time in the histor...\n",
            "     0                                                            ecks this one off your must-see list . \\n\n",
            "     0                                                                      . . . a confusing drudgery . \\n\n",
            "     0                                             choppy , overlong documentary about 'the lifestyle . '\\n\n",
            "     1       an incredibly clever and superbly paced caper filled with scams within scams within scams . \\n\n"
          ],
          "name": "stdout"
        }
      ]
    },
    {
      "cell_type": "markdown",
      "metadata": {
        "id": "-k96SrbR2l3J",
        "colab_type": "text"
      },
      "source": [
        "### Remove stop words"
      ]
    },
    {
      "cell_type": "code",
      "metadata": {
        "id": "UmZQe0z9D31M",
        "colab_type": "code",
        "colab": {}
      },
      "source": [
        "stop_words = nltk.corpus.stopwords.words('english')\n",
        "\n",
        "def remove_stop_words(text):\n",
        "    tokens = nltk.word_tokenize(text)\n",
        "    tokens = (token for token in tokens if token not in stop_words)\n",
        "    return ' '.join(tokens)\n",
        "\n",
        "dataset['text'] = dataset['text'].apply(lambda text: remove_stop_words(text))"
      ],
      "execution_count": 0,
      "outputs": []
    },
    {
      "cell_type": "code",
      "metadata": {
        "id": "CNkyIHRezA-w",
        "colab_type": "code",
        "colab": {
          "base_uri": "https://localhost:8080/",
          "height": 126
        },
        "outputId": "ac383de6-eb19-4524-b124-ed116ad4109a"
      },
      "source": [
        "print(dataset[:5].to_string(index=False))"
      ],
      "execution_count": 10,
      "outputs": [
        {
          "output_type": "stream",
          "text": [
            " label                                                                             text\n",
            "     1              simply doubt film asks right questions right time history country .\n",
            "     0                                                         ecks one must-see list .\n",
            "     0                                                       . . . confusing drudgery .\n",
            "     0                                 choppy , overlong documentary 'the lifestyle . '\n",
            "     1  incredibly clever superbly paced caper filled scams within scams within scams .\n"
          ],
          "name": "stdout"
        }
      ]
    },
    {
      "cell_type": "markdown",
      "metadata": {
        "id": "RjWvQ4BA2oQM",
        "colab_type": "text"
      },
      "source": [
        "### Remove special characters"
      ]
    },
    {
      "cell_type": "code",
      "metadata": {
        "id": "l_t00vYI1JsA",
        "colab_type": "code",
        "colab": {
          "base_uri": "https://localhost:8080/",
          "height": 126
        },
        "outputId": "3f34f934-17ed-4bc5-89f8-c562a8943e4b"
      },
      "source": [
        "# Remove specialirrelevant characters\n",
        "dataset['text'] = dataset['text'].str.replace(\"[^a-zA-Z!,.'\\\"]\", \" \")  \n",
        "# Remove repeating spaces\n",
        "dataset['text'] = dataset['text'].str.replace(\"\\s\\s+\", \" \")  \n",
        "print(dataset[:5].to_string(index=False))"
      ],
      "execution_count": 11,
      "outputs": [
        {
          "output_type": "stream",
          "text": [
            " label                                                                             text\n",
            "     1              simply doubt film asks right questions right time history country .\n",
            "     0                                                         ecks one must see list .\n",
            "     0                                                       . . . confusing drudgery .\n",
            "     0                                 choppy , overlong documentary 'the lifestyle . '\n",
            "     1  incredibly clever superbly paced caper filled scams within scams within scams .\n"
          ],
          "name": "stdout"
        }
      ]
    },
    {
      "cell_type": "markdown",
      "metadata": {
        "id": "tWVWRCJZ2swh",
        "colab_type": "text"
      },
      "source": [
        "### Split dataset"
      ]
    },
    {
      "cell_type": "code",
      "metadata": {
        "id": "MK_i0X2kD6AC",
        "colab_type": "code",
        "colab": {
          "base_uri": "https://localhost:8080/",
          "height": 54
        },
        "outputId": "d47933a6-3c50-4835-ca94-66d202d2de9a"
      },
      "source": [
        "dataset_trn, dataset_tst = train_test_split(\n",
        "    dataset, stratify = dataset['label'], \n",
        "    test_size = TEST_SPLIT_SIZE, random_state = RANDOMNESS_SEED)\n",
        "\n",
        "print(f\"Training dataset size: {dataset_trn.shape}\")\n",
        "print(f\"Testing dataset size: {dataset_tst.shape}\")"
      ],
      "execution_count": 12,
      "outputs": [
        {
          "output_type": "stream",
          "text": [
            "Training dataset size: (8529, 2)\n",
            "Testing dataset size: (2133, 2)\n"
          ],
          "name": "stdout"
        }
      ]
    },
    {
      "cell_type": "markdown",
      "metadata": {
        "colab_type": "text",
        "id": "zO9samBD4xHE"
      },
      "source": [
        "# Train model"
      ]
    },
    {
      "cell_type": "code",
      "metadata": {
        "id": "jjV-QzmvRo16",
        "colab_type": "code",
        "colab": {}
      },
      "source": [
        "drop_mult = 0.5"
      ],
      "execution_count": 0,
      "outputs": []
    },
    {
      "cell_type": "code",
      "metadata": {
        "id": "7tNP_aMTEOKe",
        "colab_type": "code",
        "colab": {}
      },
      "source": [
        "lm_data = TextLMDataBunch.from_df(train_df = dataset_trn, valid_df = dataset_tst, path = \"\")\n",
        "config = awd_lstm_lm_config.copy()\n",
        "config['n_hid'] = 1150\n",
        "lm_learner = language_model_learner(lm_data, arch=AWD_LSTM, drop_mult=drop_mult, pretrained=False, config=config)"
      ],
      "execution_count": 0,
      "outputs": []
    },
    {
      "cell_type": "code",
      "metadata": {
        "id": "jJeF8wKvHapk",
        "colab_type": "code",
        "colab": {}
      },
      "source": [
        "lm_learner.load_pretrained(wgts_fname='fwd_wt103.h5', itos_fname='itos_wt103.pkl', strict=False)"
      ],
      "execution_count": 0,
      "outputs": []
    },
    {
      "cell_type": "code",
      "metadata": {
        "id": "80Vwy7YSHeSN",
        "colab_type": "code",
        "colab": {
          "base_uri": "https://localhost:8080/",
          "height": 363
        },
        "outputId": "99c27b81-00d4-4d76-bd8c-cfd73e89abf8"
      },
      "source": [
        "lm_learner.fit_one_cycle(cyc_len=1, max_lr=1e-2)\n",
        "lm_learner.lr_find()\n",
        "lm_learner.recorder.plot()\n",
        "lm_learner.save_encoder('ft_enc')"
      ],
      "execution_count": 16,
      "outputs": [
        {
          "output_type": "display_data",
          "data": {
            "text/html": [
              "<table border=\"1\" class=\"dataframe\">\n",
              "  <thead>\n",
              "    <tr style=\"text-align: left;\">\n",
              "      <th>epoch</th>\n",
              "      <th>train_loss</th>\n",
              "      <th>valid_loss</th>\n",
              "      <th>accuracy</th>\n",
              "      <th>time</th>\n",
              "    </tr>\n",
              "  </thead>\n",
              "  <tbody>\n",
              "    <tr>\n",
              "      <td>0</td>\n",
              "      <td>6.841975</td>\n",
              "      <td>6.071192</td>\n",
              "      <td>0.189509</td>\n",
              "      <td>00:07</td>\n",
              "    </tr>\n",
              "  </tbody>\n",
              "</table>"
            ],
            "text/plain": [
              "<IPython.core.display.HTML object>"
            ]
          },
          "metadata": {
            "tags": []
          }
        },
        {
          "output_type": "display_data",
          "data": {
            "text/html": [
              ""
            ],
            "text/plain": [
              "<IPython.core.display.HTML object>"
            ]
          },
          "metadata": {
            "tags": []
          }
        },
        {
          "output_type": "stream",
          "text": [
            "LR Finder is complete, type {learner_name}.recorder.plot() to see the graph.\n"
          ],
          "name": "stdout"
        },
        {
          "output_type": "display_data",
          "data": {
            "image/png": "[encoded data removed]",
            "text/plain": [
              "<Figure size 432x288 with 1 Axes>"
            ]
          },
          "metadata": {
            "tags": []
          }
        }
      ]
    },
    {
      "cell_type": "code",
      "metadata": {
        "id": "x7fO0cuVET8W",
        "colab_type": "code",
        "colab": {}
      },
      "source": [
        "clas_data = TextClasDataBunch.from_df(train_df = dataset_trn, valid_df = dataset_tst, vocab=lm_data.train_ds.vocab, path = \"\")"
      ],
      "execution_count": 0,
      "outputs": []
    },
    {
      "cell_type": "code",
      "metadata": {
        "id": "QvFYcQMwIgwG",
        "colab_type": "code",
        "colab": {
          "base_uri": "https://localhost:8080/",
          "height": 363
        },
        "outputId": "72a819a4-d3fe-4d9a-c00d-1ac1f4b1ce43"
      },
      "source": [
        "config = awd_lstm_clas_config.copy()\n",
        "config['n_hid'] = 1150\n",
        "tc_learner = text_classifier_learner(clas_data, arch=AWD_LSTM, drop_mult=drop_mult, config=config)\n",
        "tc_learner.load_encoder('ft_enc')\n",
        "tc_learner.lr_find()\n",
        "tc_learner.recorder.plot()\n",
        "tc_learner.fit_one_cycle(cyc_len=1, max_lr=1e-2)"
      ],
      "execution_count": 18,
      "outputs": [
        {
          "output_type": "display_data",
          "data": {
            "text/html": [
              ""
            ],
            "text/plain": [
              "<IPython.core.display.HTML object>"
            ]
          },
          "metadata": {
            "tags": []
          }
        },
        {
          "output_type": "stream",
          "text": [
            "LR Finder is complete, type {learner_name}.recorder.plot() to see the graph.\n"
          ],
          "name": "stdout"
        },
        {
          "output_type": "display_data",
          "data": {
            "text/html": [
              "<table border=\"1\" class=\"dataframe\">\n",
              "  <thead>\n",
              "    <tr style=\"text-align: left;\">\n",
              "      <th>epoch</th>\n",
              "      <th>train_loss</th>\n",
              "      <th>valid_loss</th>\n",
              "      <th>accuracy</th>\n",
              "      <th>time</th>\n",
              "    </tr>\n",
              "  </thead>\n",
              "  <tbody>\n",
              "    <tr>\n",
              "      <td>0</td>\n",
              "      <td>0.605494</td>\n",
              "      <td>0.574347</td>\n",
              "      <td>0.706517</td>\n",
              "      <td>00:04</td>\n",
              "    </tr>\n",
              "  </tbody>\n",
              "</table>"
            ],
            "text/plain": [
              "<IPython.core.display.HTML object>"
            ]
          },
          "metadata": {
            "tags": []
          }
        },
        {
          "output_type": "display_data",
          "data": {
            "image/png": "[encoded data removed]",
            "text/plain": [
              "<Figure size 432x288 with 1 Axes>"
            ]
          },
          "metadata": {
            "tags": []
          }
        }
      ]
    },
    {
      "cell_type": "markdown",
      "metadata": {
        "colab_type": "text",
        "id": "YsPWbGqB9fVk"
      },
      "source": [
        "# Evaluate model"
      ]
    },
    {
      "cell_type": "code",
      "metadata": {
        "id": "q4VhalD6bgp6",
        "colab_type": "code",
        "outputId": "5ed3c544-f5d2-4812-e0d7-90670f4a8a1d",
        "colab": {
          "base_uri": "https://localhost:8080/",
          "height": 145
        }
      },
      "source": [
        "predictions, targets = tc_learner.get_preds()\n",
        "predictions"
      ],
      "execution_count": 19,
      "outputs": [
        {
          "output_type": "execute_result",
          "data": {
            "text/plain": [
              "tensor([[0.6377, 0.3623],\n",
              "        [0.2358, 0.7642],\n",
              "        [0.3785, 0.6215],\n",
              "        ...,\n",
              "        [0.6161, 0.3839],\n",
              "        [0.7355, 0.2645],\n",
              "        [0.7131, 0.2869]])"
            ]
          },
          "metadata": {
            "tags": []
          },
          "execution_count": 19
        }
      ]
    },
    {
      "cell_type": "code",
      "metadata": {
        "id": "6CLnLLu8_kV7",
        "colab_type": "code",
        "colab": {
          "base_uri": "https://localhost:8080/",
          "height": 211
        },
        "outputId": "357c6d76-f8fc-403f-e9dc-81f9f9825910"
      },
      "source": [
        "predictions = np.argmax(predictions, axis = 1)\n",
        "\n",
        "test_accuracy = 100 * int((predictions==targets).sum())/len(predictions)\n",
        "print(f\"Test accuracy:\\n{test_accuracy:.1f}%\\n\")\n",
        "\n",
        "print(\"Confusion matrix:\")\n",
        "pd.crosstab(predictions, targets)"
      ],
      "execution_count": 20,
      "outputs": [
        {
          "output_type": "stream",
          "text": [
            "Test accuracy:\n",
            "70.7%\n",
            "\n",
            "Confusion matrix:\n"
          ],
          "name": "stdout"
        },
        {
          "output_type": "execute_result",
          "data": {
            "text/html": [
              "<div>\n",
              "<style scoped>\n",
              "    .dataframe tbody tr th:only-of-type {\n",
              "        vertical-align: middle;\n",
              "    }\n",
              "\n",
              "    .dataframe tbody tr th {\n",
              "        vertical-align: top;\n",
              "    }\n",
              "\n",
              "    .dataframe thead th {\n",
              "        text-align: right;\n",
              "    }\n",
              "</style>\n",
              "<table border=\"1\" class=\"dataframe\">\n",
              "  <thead>\n",
              "    <tr style=\"text-align: right;\">\n",
              "      <th>col_0</th>\n",
              "      <th>0</th>\n",
              "      <th>1</th>\n",
              "    </tr>\n",
              "    <tr>\n",
              "      <th>row_0</th>\n",
              "      <th></th>\n",
              "      <th></th>\n",
              "    </tr>\n",
              "  </thead>\n",
              "  <tbody>\n",
              "    <tr>\n",
              "      <th>0</th>\n",
              "      <td>727</td>\n",
              "      <td>287</td>\n",
              "    </tr>\n",
              "    <tr>\n",
              "      <th>1</th>\n",
              "      <td>339</td>\n",
              "      <td>780</td>\n",
              "    </tr>\n",
              "  </tbody>\n",
              "</table>\n",
              "</div>"
            ],
            "text/plain": [
              "col_0    0    1\n",
              "row_0          \n",
              "0      727  287\n",
              "1      339  780"
            ]
          },
          "metadata": {
            "tags": []
          },
          "execution_count": 20
        }
      ]
    }
  ]
}
