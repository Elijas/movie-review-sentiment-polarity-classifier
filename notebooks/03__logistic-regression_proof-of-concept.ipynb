{
 "cells": [
  {
   "cell_type": "code",
   "execution_count": 1,
   "metadata": {
    "pycharm": {
     "is_executing": false,
     "name": "#%%\n"
    }
   },
   "outputs": [],
   "source": [
    "import warnings\n",
    "import sys\n",
    "\n",
    "import matplotlib.pyplot as plt\n",
    "from sklearn.feature_extraction.text import CountVectorizer\n",
    "from sklearn.linear_model import LogisticRegression\n",
    "from sklearn.model_selection import GridSearchCV\n",
    "with warnings.catch_warnings():\n",
    "    warnings.simplefilter(\"ignore\", category=DeprecationWarning)\n",
    "    # Hides warnings about sklearn/externals/{six,joblib} deprecation in 0.23\n",
    "    import mglearn \n",
    "    \n",
    "sys.path.append(\"..\")\n",
    "from src.io import get_raw_structured_dataset, Dataset, XY, get_label_title\n",
    "from src.processing import process_string_to_tokens, normalize_word, TOKENIZED_STOP_WORDS, NLTK_STOP_WORDS"
   ]
  },
  {
   "cell_type": "markdown",
   "metadata": {
    "pycharm": {
     "name": "#%% md\n"
    }
   },
   "source": [
    "# Data preprocessing and Feature Extraction\n",
    "##### Split and shuffle the dataset"
   ]
  },
  {
   "cell_type": "code",
   "execution_count": 2,
   "metadata": {
    "pycharm": {
     "is_executing": false,
     "name": "#%%\n"
    }
   },
   "outputs": [
    {
     "name": "stdout",
     "output_type": "stream",
     "text": [
      "Training dataset size: 9595\n",
      "Testing dataset size: 1067\n"
     ]
    }
   ],
   "source": [
    "raw_dataset = get_raw_structured_dataset()\n",
    "print(f\"Training dataset size: {len(raw_dataset.trn.x)}\")\n",
    "print(f\"Testing dataset size: {len(raw_dataset.tst.x)}\")"
   ]
  },
  {
   "cell_type": "markdown",
   "metadata": {},
   "source": [
    "##### Clean data and Extract features"
   ]
  },
  {
   "cell_type": "code",
   "execution_count": 3,
   "metadata": {
    "pycharm": {
     "is_executing": false
    }
   },
   "outputs": [
    {
     "name": "stdout",
     "output_type": "stream",
     "text": [
      "<9595x4018 sparse matrix of type '<class 'numpy.int64'>'\n",
      "\twith 85597 stored elements in Compressed Sparse Row format>\n"
     ]
    }
   ],
   "source": [
    "class Tokenizer(object):\n",
    "    def __call__(self, string):\n",
    "        def normalize_word_fun(token): \n",
    "            # Returning the token untouched if it is a stop-word\n",
    "            #  solves error \"UserWarning: Your stop_words may be \n",
    "            #  inconsistent with your preprocessing.\". \n",
    "            return normalize_word(token) if token not in NLTK_STOP_WORDS else token\n",
    "            \n",
    "        # Stop words are filtered by the Vectorizer.\n",
    "        return process_string_to_tokens(string, remove_stop_words=False,\n",
    "                                        normalize_word_fun=normalize_word_fun)\n",
    "\n",
    "vectorizer = CountVectorizer(min_df=5, \n",
    "                             ngram_range=(1, 2),\n",
    "                             tokenizer=Tokenizer(),\n",
    "                             stop_words=TOKENIZED_STOP_WORDS,\n",
    "                             lowercase=True)\n",
    "vectorizer.fit(raw_dataset.trn.x)\n",
    "vectorized_dataset = Dataset(trn=XY(x=vectorizer.transform(raw_dataset.trn.x), y=raw_dataset.trn.y),\n",
    "                             tst=XY(x=vectorizer.transform(raw_dataset.tst.x), y=raw_dataset.tst.y))\n",
    "# Show result\n",
    "print(repr(vectorized_dataset.trn.x))"
   ]
  },
  {
   "cell_type": "code",
   "execution_count": 4,
   "metadata": {
    "pycharm": {
     "is_executing": false
    }
   },
   "outputs": [
    {
     "name": "stdout",
     "output_type": "stream",
     "text": [
      "First 10 selected features (4018 in total):\n",
      "1. abandon\n",
      "2. abil\n",
      "3. abl\n",
      "4. abli\n",
      "5. absolut\n",
      "6. absorb\n",
      "7. abstract\n",
      "8. absurd\n",
      "9. absurdist\n",
      "10. abus\n"
     ]
    }
   ],
   "source": [
    "amount = 10\n",
    "feature_tokens = vectorizer.get_feature_names()\n",
    "print(f\"First {amount} selected features ({len(feature_tokens)} in total):\")\n",
    "print(*[f\"{id_+1}. {a}\" for id_, a in enumerate(feature_tokens[:amount])], sep='\\n')"
   ]
  },
  {
   "cell_type": "markdown",
   "metadata": {},
   "source": [
    "# Training \n",
    "### Run the training\n",
    "##### Train the Naive Bayes Classifier"
   ]
  },
  {
   "cell_type": "code",
   "execution_count": 5,
   "metadata": {
    "pycharm": {
     "is_executing": false
    }
   },
   "outputs": [
    {
     "name": "stdout",
     "output_type": "stream",
     "text": [
      "GridSearchCV(cv=5, error_score='raise-deprecating',\n",
      "             estimator=LogisticRegression(C=1.0, class_weight=None, dual=False,\n",
      "                                          fit_intercept=True,\n",
      "                                          intercept_scaling=1, l1_ratio=None,\n",
      "                                          max_iter=100, multi_class='warn',\n",
      "                                          n_jobs=None, penalty='l2',\n",
      "                                          random_state=None, solver='lbfgs',\n",
      "                                          tol=0.0001, verbose=0,\n",
      "                                          warm_start=False),\n",
      "             iid='warn', n_jobs=-1, param_grid={'C': [0.01, 0.1]},\n",
      "             pre_dispatch='2*n_jobs', refit=True, return_train_score=False,\n",
      "             scoring=None, verbose=0)\n",
      "Best cross-validation score: 0.74\n",
      "Best parameters:  {'C': 0.1}\n",
      "Best estimator:  LogisticRegression(C=0.1, class_weight=None, dual=False, fit_intercept=True,\n",
      "                   intercept_scaling=1, l1_ratio=None, max_iter=100,\n",
      "                   multi_class='warn', n_jobs=None, penalty='l2',\n",
      "                   random_state=None, solver='lbfgs', tol=0.0001, verbose=0,\n",
      "                   warm_start=False)\n"
     ]
    }
   ],
   "source": [
    "param_grid = {'C': [0.01, 0.1]}\n",
    "grid = GridSearchCV(LogisticRegression(solver='lbfgs'), param_grid, cv=5, n_jobs=-1)\n",
    "grid.fit(vectorized_dataset.trn.x, vectorized_dataset.trn.y)\n",
    "classifier = grid.best_estimator_\n",
    "\n",
    "# Print initial and selected parameters of training\n",
    "print(repr(grid))\n",
    "print(\"Best cross-validation score: {:.2f}\".format(grid.best_score_))\n",
    "print(\"Best parameters: \", grid.best_params_)\n",
    "print(\"Best estimator: \", grid.best_estimator_)"
   ]
  },
  {
   "cell_type": "markdown",
   "metadata": {},
   "source": [
    "##### Show most informative features"
   ]
  },
  {
   "cell_type": "code",
   "execution_count": 6,
   "metadata": {
    "pycharm": {
     "is_executing": false
    }
   },
   "outputs": [
    {
     "data": {
      "image/png": "[encoded data removed]",
      "text/plain": [
       "<Figure size 1080x360 with 1 Axes>"
      ]
     },
     "metadata": {
      "needs_background": "light"
     },
     "output_type": "display_data"
    }
   ],
   "source": [
    "mglearn.tools.visualize_coefficients(grid.best_estimator_.coef_, feature_tokens, n_top_features=15)\n",
    "plt.show()"
   ]
  },
  {
   "cell_type": "markdown",
   "metadata": {},
   "source": [
    "# Performance evaluation\n",
    "##### Test set accuracy"
   ]
  },
  {
   "cell_type": "code",
   "execution_count": 7,
   "metadata": {
    "pycharm": {
     "is_executing": false
    }
   },
   "outputs": [
    {
     "name": "stdout",
     "output_type": "stream",
     "text": [
      "Test set accuracy: 73.95%\n"
     ]
    }
   ],
   "source": [
    "classifier.predict(vectorized_dataset.tst.x)\n",
    "test_accuracy = classifier.score(vectorized_dataset.tst.x, vectorized_dataset.tst.y)\n",
    "print(f\"Test set accuracy: {test_accuracy * 100:.2f}%\")"
   ]
  },
  {
   "cell_type": "markdown",
   "metadata": {},
   "source": [
    "# Deployment\n",
    "##### Example prediction"
   ]
  },
  {
   "cell_type": "code",
   "execution_count": 8,
   "metadata": {
    "pycharm": {
     "is_executing": false
    }
   },
   "outputs": [
    {
     "name": "stdout",
     "output_type": "stream",
     "text": [
      "Sentence \"This movie was boring...\" is classified as Negative\n"
     ]
    }
   ],
   "source": [
    "input_text = \"This movie was boring...\"\n",
    "\n",
    "def predict(input_text):\n",
    "    model_input = vectorizer.transform([input_text])\n",
    "    return classifier.predict(model_input)[0]\n",
    "\n",
    "predicted_label = predict(input_text)\n",
    "predicted_label_title = get_label_title(predicted_label)\n",
    "print(f'Sentence \"{input_text}\" is classified as {predicted_label_title}')"
   ]
  }
 ],
 "metadata": {
  "kernelspec": {
   "display_name": "Python 3",
   "language": "python",
   "name": "python3"
  },
  "language_info": {
   "codemirror_mode": {
    "name": "ipython",
    "version": 3
   },
   "file_extension": ".py",
   "mimetype": "text/x-python",
   "name": "python",
   "nbconvert_exporter": "python",
   "pygments_lexer": "ipython3",
   "version": "3.7.1"
  },
  "pycharm": {
   "stem_cell": {
    "cell_type": "raw",
    "metadata": {
     "collapsed": false
    },
    "source": []
   }
  }
 },
 "nbformat": 4,
 "nbformat_minor": 1
}
