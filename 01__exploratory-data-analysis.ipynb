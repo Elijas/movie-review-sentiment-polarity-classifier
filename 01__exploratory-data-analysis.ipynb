{
 "cells": [
  {
   "cell_type": "code",
   "execution_count": 1,
   "metadata": {
    "pycharm": {
     "is_executing": false
    }
   },
   "outputs": [],
   "source": [
    "import collections\n",
    "from collections import Counter\n",
    "\n",
    "import matplotlib.pyplot as plt\n",
    "import pandas as pd\n",
    "import seaborn as sns\n",
    "\n",
    "from src import const\n",
    "from src.io import get_corpus\n",
    "from src.processing import process_string_to_tokens, process_strings_to_token_lists"
   ]
  },
  {
   "cell_type": "markdown",
   "metadata": {},
   "source": [
    "##### Overview the formatting"
   ]
  },
  {
   "cell_type": "code",
   "execution_count": 2,
   "metadata": {
    "pycharm": {
     "is_executing": false
    }
   },
   "outputs": [
    {
     "name": "stdout",
     "text": [
      "simplistic , silly and tedious . \n\nit's so laddish and juvenile , only teenage boys could possibly find it funny . \n\nexploitative and largely devoid of the depth or sophistication that would make watching such a graphic treatment of the crimes bearable . \n\n"
     ],
     "output_type": "stream"
    }
   ],
   "source": [
    "count = 3\n",
    "with const.PATHS.CORPUS_NEG.open() as dataset:\n",
    "    head = [next(dataset) for x in range(count)]\n",
    "print(*head, sep='\\n')"
   ]
  },
  {
   "cell_type": "markdown",
   "metadata": {},
   "source": [
    "##### Load the dataset to memory"
   ]
  },
  {
   "cell_type": "code",
   "execution_count": 3,
   "metadata": {
    "pycharm": {
     "is_executing": false
    }
   },
   "outputs": [],
   "source": [
    "corpus = get_corpus()"
   ]
  },
  {
   "cell_type": "markdown",
   "metadata": {},
   "source": [
    "##### Show dataset size"
   ]
  },
  {
   "cell_type": "code",
   "execution_count": 4,
   "metadata": {
    "pycharm": {
     "is_executing": false
    }
   },
   "outputs": [
    {
     "name": "stdout",
     "text": [
      "Positive label: 5331 snippets\nNegative label: 5331 snippets\n"
     ],
     "output_type": "stream"
    }
   ],
   "source": [
    "print(*[f\"{label_name} label: {len(corpus_)} snippets\" \n",
    "       for label_name, corpus_ in \n",
    "       ((\"Positive\", corpus.pos), \n",
    "        (\"Negative\", corpus.neg))], sep='\\n')"
   ]
  },
  {
   "cell_type": "markdown",
   "metadata": {},
   "source": [
    "##### Transform and clean data"
   ]
  },
  {
   "cell_type": "code",
   "execution_count": 5,
   "metadata": {
    "pycharm": {
     "is_executing": false
    }
   },
   "outputs": [
    {
     "data": {
      "text/plain": "['think', 'movi', 'great']"
     },
     "metadata": {},
     "output_type": "execute_result",
     "execution_count": 5
    }
   ],
   "source": [
    "# Processed example\n",
    "process_string_to_tokens('I think this movie is great !')"
   ]
  },
  {
   "cell_type": "code",
   "execution_count": 6,
   "metadata": {
    "pycharm": {
     "is_executing": false
    }
   },
   "outputs": [],
   "source": [
    "TokensList = collections.namedtuple('Tokens', 'neg pos all')\n",
    "tokens_list = TokensList(neg=process_strings_to_token_lists(corpus.neg),\n",
    "                         pos=process_strings_to_token_lists(corpus.pos),\n",
    "                         all=process_strings_to_token_lists(corpus.neg + corpus.pos))"
   ]
  },
  {
   "cell_type": "code",
   "execution_count": 7,
   "metadata": {
    "pycharm": {
     "is_executing": false
    }
   },
   "outputs": [
    {
     "name": "stdout",
     "text": [
      "['simplist', 'silli', 'tediou']\n['laddish', 'juvenil', 'teenag', 'boy', 'could', 'possibl', 'find', 'funni']\n['exploit', 'larg', 'devoid', 'depth', 'sophist', 'would', 'make', 'watch', 'graphic', 'treatment', 'crime', 'bearabl']\n"
     ],
     "output_type": "stream"
    }
   ],
   "source": [
    "# Show result\n",
    "print(*tokens_list.neg[0:3], sep='\\n')"
   ]
  },
  {
   "cell_type": "markdown",
   "metadata": {},
   "source": [
    "##### Get token frequencies"
   ]
  },
  {
   "cell_type": "code",
   "execution_count": 8,
   "metadata": {
    "pycharm": {
     "is_executing": false
    }
   },
   "outputs": [],
   "source": [
    "def flatten_2d_array(matrix):\n",
    "    return [element for vector in matrix for element in vector]\n",
    "\n",
    "Freq = collections.namedtuple('Frequencies', 'neg pos all')\n",
    "freq = Freq(neg=Counter(flatten_2d_array(tokens_list.neg)),\n",
    "                          pos=Counter(flatten_2d_array(tokens_list.pos)),\n",
    "                          all=Counter(flatten_2d_array(tokens_list.neg + tokens_list.pos)))"
   ]
  },
  {
   "cell_type": "markdown",
   "metadata": {},
   "source": [
    "##### Show histogram of token frequencies"
   ]
  },
  {
   "cell_type": "code",
   "execution_count": 9,
   "metadata": {
    "pycharm": {
     "is_executing": false
    }
   },
   "outputs": [
    {
     "data": {
      "text/plain": "<Figure size 864x432 with 2 Axes>",
      "image/png": "[encoded data removed]"
     },
     "metadata": {
      "needs_background": "light"
     },
     "output_type": "display_data"
    }
   ],
   "source": [
    "# Text\n",
    "title = \"Histogram of token frequencies\"\n",
    "xlabel = \"Token frequency in the dataset\"\n",
    "ylabel = \"Frequency of a token frequency\"\n",
    "\n",
    "# Values\n",
    "max_bin_value = max(f.most_common(1)[0][1] for f in (freq.neg, freq.pos))\n",
    "bin_size = 10\n",
    "values_neg = [int(v) for v in freq.neg.values()]\n",
    "values_pos = [int(v) for v in freq.pos.values()]\n",
    "\n",
    "# Plotting\n",
    "fig, ax = plt.subplots(2, 1, figsize=const.JUPYTER.FIGURE_SIZE, sharey='all')\n",
    "ax[0].set(yscale='log', xlabel='', ylabel='')\n",
    "ax[1].set(yscale='log', xlabel=xlabel, ylabel='')\n",
    "fig.text(0.08, 0.5, ylabel, ha=\"center\", va=\"center\", rotation=90)\n",
    "bins = range(1, max_bin_value, bin_size)\n",
    "sns.distplot(values_neg, bins=bins, kde=False, color=\"red\",\n",
    "             label=\"Negative\", ax=ax[0]).set_title(title)\n",
    "sns.distplot(values_pos, bins=bins, kde=False, color=\"green\",\n",
    "             label=\"Positive\", ax=ax[1])\n",
    "for ax_ in ax:\n",
    "    ax_.legend()"
   ]
  },
  {
   "cell_type": "markdown",
   "metadata": {},
   "source": [
    "##### Show most frequent words"
   ]
  },
  {
   "cell_type": "code",
   "execution_count": 10,
   "metadata": {
    "pycharm": {
     "is_executing": false,
     "name": "#%%\n"
    }
   },
   "outputs": [
    {
     "data": {
      "text/plain": "<Figure size 864x432 with 1 Axes>",
      "image/png": "[encoded data removed]"
     },
     "metadata": {
      "needs_background": "light"
     },
     "output_type": "display_data"
    }
   ],
   "source": [
    "xlabel, ylabel = \"Token\", \"Frequency\"\n",
    "df = pd.DataFrame(freq.all.most_common(20), columns = [xlabel, ylabel])\n",
    "fig, ax = plt.subplots(figsize=const.JUPYTER.FIGURE_SIZE)\n",
    "sns.barplot(data=df, ax=ax, x=xlabel, y=ylabel, palette='Spectral')\n",
    "pass"
   ]
  }
 ],
 "metadata": {
  "kernelspec": {
   "display_name": "Python 3",
   "language": "python",
   "name": "python3"
  },
  "language_info": {
   "codemirror_mode": {
    "name": "ipython",
    "version": 3
   },
   "file_extension": ".py",
   "mimetype": "text/x-python",
   "name": "python",
   "nbconvert_exporter": "python",
   "pygments_lexer": "ipython3",
   "version": "3.7.1"
  },
  "pycharm": {
   "stem_cell": {
    "cell_type": "raw",
    "source": [],
    "metadata": {
     "collapsed": false
    }
   }
  }
 },
 "nbformat": 4,
 "nbformat_minor": 2
}