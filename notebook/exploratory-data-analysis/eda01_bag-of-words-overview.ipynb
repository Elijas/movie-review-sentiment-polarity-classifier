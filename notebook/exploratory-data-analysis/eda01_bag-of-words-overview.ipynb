{
 "cells": [
  {
   "cell_type": "code",
   "execution_count": 1,
   "metadata": {},
   "outputs": [],
   "source": [
    "from pathlib import Path\n",
    "\n",
    "import nltk\n",
    "from collections import Counter\n",
    "    \n",
    "import pandas as pd\n",
    "import seaborn as sns\n",
    "import matplotlib.pyplot as plt\n",
    "\n",
    "# Plotting\n",
    "sns.set(color_codes=True)\n",
    "FIGSIZE = (12, 6)\n",
    "\n",
    "# Paths for files\n",
    "ROOT_FOLDERPATH = Path.cwd().parent.parent\n",
    "DATASET_FOLDERPATH = ROOT_FOLDERPATH / 'data' / 'raw'\n",
    "NEG_DATASET_FILEPATH = DATASET_FOLDERPATH / 'rt-polarity.neg'\n",
    "POS_DATASET_FILEPATH = DATASET_FOLDERPATH / 'rt-polarity.pos'\n",
    "\n",
    "# Data labels\n",
    "POS = 1\n",
    "NEG = 0\n",
    "LABEL_NAMES = {\n",
    "    POS: \"Positive\",\n",
    "    NEG: \"Negative\"\n",
    "}"
   ]
  },
  {
   "cell_type": "markdown",
   "metadata": {},
   "source": [
    "##### Overview the formatting"
   ]
  },
  {
   "cell_type": "code",
   "execution_count": 2,
   "metadata": {},
   "outputs": [
    {
     "name": "stdout",
     "output_type": "stream",
     "text": [
      "simplistic , silly and tedious . \n",
      "\n",
      "it's so laddish and juvenile , only teenage boys could possibly find it funny . \n",
      "\n",
      "exploitative and largely devoid of the depth or sophistication that would make watching such a graphic treatment of the crimes bearable . \n",
      "\n"
     ]
    }
   ],
   "source": [
    "linecount = 3\n",
    "with NEG_DATASET_FILEPATH.open() as dataset:\n",
    "    head = [next(dataset) for x in range(linecount)]\n",
    "print(*head, sep='\\n')"
   ]
  },
  {
   "cell_type": "markdown",
   "metadata": {},
   "source": [
    "##### Load the dataset to memory"
   ]
  },
  {
   "cell_type": "code",
   "execution_count": 4,
   "metadata": {},
   "outputs": [],
   "source": [
    "with NEG_DATASET_FILEPATH.open() as file:\n",
    "    corpus_neg = file.readlines()\n",
    "    \n",
    "with POS_DATASET_FILEPATH.open() as file:\n",
    "    corpus_pos = file.readlines()"
   ]
  },
  {
   "cell_type": "markdown",
   "metadata": {},
   "source": [
    "##### Show dataset size"
   ]
  },
  {
   "cell_type": "code",
   "execution_count": 6,
   "metadata": {},
   "outputs": [
    {
     "name": "stdout",
     "output_type": "stream",
     "text": [
      "Positive label: 5331 snippets\n",
      "Negative label: 5331 snippets\n"
     ]
    }
   ],
   "source": [
    "print(f\"Positive label: {len(corpus_neg)} snippets\")\n",
    "print(f\"Negative label: {len(corpus_neg)} snippets\")"
   ]
  },
  {
   "cell_type": "markdown",
   "metadata": {},
   "source": [
    "##### Transform and clean data"
   ]
  },
  {
   "cell_type": "code",
   "execution_count": 7,
   "metadata": {},
   "outputs": [
    {
     "data": {
      "text/plain": [
       "['think', 'movi', 'great']"
      ]
     },
     "execution_count": 7,
     "metadata": {},
     "output_type": "execute_result"
    }
   ],
   "source": [
    "nltk.download('stopwords', quiet=True, raise_on_error=True)\n",
    "nltk_stop_words = list(set(nltk.corpus.stopwords.words('english')))\n",
    "nltk.download('punkt', quiet=True, raise_on_error=True)\n",
    "nltk_porter_stemmer = nltk.stem.PorterStemmer()\n",
    "\n",
    "def line_to_preprocessed_tokens(line):\n",
    "    tokens = nltk.word_tokenize(line)\n",
    "    tokens = (token.lower() for token in tokens)  # Ensure lower-case characters\n",
    "    # Remove words with non-alphabet characters\n",
    "    tokens = (token for token in tokens if token.isalpha())\n",
    "    tokens = (token for token in tokens if token not in nltk_stop_words)  # Remove stop words\n",
    "    tokens = (nltk_porter_stemmer.stem(token) for token in tokens)  # Stemming\n",
    "    return list(tokens)\n",
    "\n",
    "# Show result\n",
    "line_to_preprocessed_tokens('I think this movie is great !')"
   ]
  },
  {
   "cell_type": "code",
   "execution_count": 130,
   "metadata": {},
   "outputs": [],
   "source": [
    "def preprocess_corpus(corpus):\n",
    "    corpus = (line_to_preprocessed_tokens(line) for line in corpus)\n",
    "    return [tokens for tokens in corpus if tokens]  # Remove empty lists\n",
    "\n",
    "tokens_dataset_neg, tokens_dataset_pos = preprocess_corpus(corpus_neg), preprocess_corpus(corpus_pos)"
   ]
  },
  {
   "cell_type": "code",
   "execution_count": 9,
   "metadata": {},
   "outputs": [
    {
     "name": "stdout",
     "output_type": "stream",
     "text": [
      "['simplist', 'silli', 'tediou']\n",
      "['laddish', 'juvenil', 'teenag', 'boy', 'could', 'possibl', 'find', 'funni']\n",
      "['exploit', 'larg', 'devoid', 'depth', 'sophist', 'would', 'make', 'watch', 'graphic', 'treatment', 'crime', 'bearabl']\n"
     ]
    }
   ],
   "source": [
    "# Show result\n",
    "print(*tokens_dataset_neg[0:3], sep='\\n')"
   ]
  },
  {
   "cell_type": "markdown",
   "metadata": {},
   "source": [
    "##### Get token frequencies"
   ]
  },
  {
   "cell_type": "code",
   "execution_count": 132,
   "metadata": {},
   "outputs": [],
   "source": [
    "def get_all_tokens_from_dataset(tokens_dataset):\n",
    "    return [word for line in tokens_dataset for word in line]  # Flatten a 2D array\n",
    "\n",
    "tokens_pos, tokens_neg = (get_all_tokens_from_dataset(tokens_dataset_pos), \n",
    "                          get_all_tokens_from_dataset(tokens_dataset_neg))\n",
    "tokens = tokens_pos + tokens_neg\n",
    "counter_pos, counter_neg, counter = Counter(tokens_pos), Counter(tokens_neg), Counter(tokens)"
   ]
  },
  {
   "cell_type": "markdown",
   "metadata": {},
   "source": [
    "##### Show histogram of token frequencies"
   ]
  },
  {
   "cell_type": "code",
   "execution_count": 126,
   "metadata": {},
   "outputs": [
    {
     "data": {
      "image/png": "[encoded data removed]",
      "text/plain": [
       "<Figure size 1080x432 with 2 Axes>"
      ]
     },
     "metadata": {},
     "output_type": "display_data"
    }
   ],
   "source": [
    "# Text\n",
    "title = \"Histogram of token frequencies\"\n",
    "xlabel = \"Token frequency in the dataset\"\n",
    "ylabel = \"Frequency of a token frequency\"\n",
    "\n",
    "# Values\n",
    "max_bin_value = max(c.most_common(1)[0][1] for c in (counter_neg, counter_pos))\n",
    "bin_size = 10\n",
    "values_neg = [int(v) for v in counter_neg.values()]\n",
    "values_pos = [int(v) for v in counter_pos.values()]\n",
    "\n",
    "# Plotting\n",
    "fig, ax = plt.subplots(2, 1, figsize=FIGSIZE, sharey=True)\n",
    "ax[0].set(yscale='log', xlabel='', ylabel='')\n",
    "ax[1].set(yscale='log', xlabel=xlabel, ylabel='')\n",
    "fig.text(0.08, 0.5, ylabel, ha=\"center\", va=\"center\", rotation=90)\n",
    "bins = range(1, max_bin_value, bin_size)\n",
    "sns.distplot(values_neg, bins=bins, kde=False, color=\"red\",\n",
    "             label=LABEL_NAMES[NEG], ax=ax[0]).set_title(title)\n",
    "sns.distplot(values_pos, bins=bins, kde=False, color=\"green\",\n",
    "             label=LABEL_NAMES[POS], ax=ax[1])\n",
    "for ax_ in ax:\n",
    "    ax_.legend()\n",
    "pass"
   ]
  },
  {
   "cell_type": "markdown",
   "metadata": {},
   "source": [
    "##### Show most frequent words"
   ]
  },
  {
   "cell_type": "code",
   "execution_count": 155,
   "metadata": {},
   "outputs": [
    {
     "data": {
      "image/png": "[encoded data removed]",
      "text/plain": [
       "<Figure size 1080x432 with 1 Axes>"
      ]
     },
     "metadata": {},
     "output_type": "display_data"
    }
   ],
   "source": [
    "xlabel, ylabel = \"Token\", \"Frequency\"\n",
    "df = pd.DataFrame(counter.most_common(20), columns = [xlabel, ylabel])\n",
    "fig, ax = plt.subplots(figsize=FIGSIZE)\n",
    "sns.barplot(data=df, ax=ax, x=xlabel, y=ylabel, palette='Spectral')\n",
    "pass"
   ]
  }
 ],
 "metadata": {
  "kernelspec": {
   "display_name": "Python 3",
   "language": "python",
   "name": "python3"
  },
  "language_info": {
   "codemirror_mode": {
    "name": "ipython",
    "version": 3
   },
   "file_extension": ".py",
   "mimetype": "text/x-python",
   "name": "python",
   "nbconvert_exporter": "python",
   "pygments_lexer": "ipython3",
   "version": "3.7.4"
  },
  "pycharm": {
   "stem_cell": {
    "cell_type": "raw",
    "metadata": {
     "collapsed": false
    },
    "source": []
   }
  }
 },
 "nbformat": 4,
 "nbformat_minor": 2
}
