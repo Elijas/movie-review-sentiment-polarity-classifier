{
 "cells": [
  {
   "cell_type": "code",
   "execution_count": 9,
   "metadata": {
    "pycharm": {
     "is_executing": false,
     "name": "#%%\n"
    }
   },
   "outputs": [],
   "source": [
    "import sys\n",
    "from pathlib import Path\n",
    "\n",
    "from sklearn.metrics import classification_report, confusion_matrix\n",
    "\n",
    "ROOT_FOLDERPATH = Path.cwd().parent.parent\n",
    "sys.path.append(str(ROOT_FOLDERPATH))\n",
    "from src.evaluation.evaluate_classifier_performance import evaluate_classifier_performance\n",
    "from src.preparation.load_data import load_dataset\n",
    "from src.modeling.naive_bayes import get_model as get_nb_classifier\n",
    "from src.modeling.logistic_regression import get_model as get_lr_classifier\n",
    "\n",
    "dataset = load_dataset()\n",
    "nb_classifier = get_nb_classifier()\n",
    "lr_classifier = get_lr_classifier()"
   ]
  },
  {
   "cell_type": "markdown",
   "metadata": {},
   "source": [
    "##### Evaluate scores on the test dataset"
   ]
  },
  {
   "cell_type": "code",
   "execution_count": 12,
   "metadata": {
    "pycharm": {
     "name": "#%%\n",
     "is_executing": false
    },
    "scrolled": true
   },
   "outputs": [
    {
     "name": "stdout",
     "text": [
      "====== Naive Bayes ======\nTest set accuracy:\n78.6%\n\n=== Performance evaluation ===\n              precision    recall  f1-score   support\n\n           0      0.809     0.766     0.787      1098\n           1      0.765     0.808     0.786      1035\n\n    accuracy                          0.786      2133\n   macro avg      0.787     0.787     0.786      2133\nweighted avg      0.787     0.786     0.786      2133\n\n\n=== Confusion matrix ===\nTrue Positives: 836\nTrue Negatives: 841\nFalse Positives: 257\nFalse Negatives: 199\n\n=== Training parameters ===\n{'clf__alpha': 0.1, 'tfidf__norm': 'l1', 'tfidf__use_idf': True, 'vect__ngram_range': (1, 3)}\n"
     ],
     "output_type": "stream"
    }
   ],
   "source": [
    "evaluate_classifier_performance(nb_classifier, dataset, \"Naive Bayes\")"
   ]
  },
  {
   "cell_type": "code",
   "execution_count": 13,
   "metadata": {
    "pycharm": {
     "is_executing": false
    }
   },
   "outputs": [
    {
     "name": "stdout",
     "text": [
      "====== Logistic Regression ======\nTest set accuracy:\n78.4%\n\n=== Performance evaluation ===\n              precision    recall  f1-score   support\n\n           0      0.813     0.754     0.782      1098\n           1      0.758     0.815     0.785      1035\n\n    accuracy                          0.784      2133\n   macro avg      0.785     0.785     0.784      2133\nweighted avg      0.786     0.784     0.784      2133\n\n\n=== Confusion matrix ===\nTrue Positives: 844\nTrue Negatives: 828\nFalse Positives: 270\nFalse Negatives: 191\n\n=== Training parameters ===\n{'clf__alpha': 0.1, 'tfidf__norm': 'l1', 'tfidf__use_idf': False}\n"
     ],
     "output_type": "stream"
    }
   ],
   "source": [
    "evaluate_classifier_performance(lr_classifier, dataset, \"Logistic Regression\")"
   ]
  }
 ],
 "metadata": {
  "kernelspec": {
   "display_name": "Python 3",
   "language": "python",
   "name": "python3"
  },
  "language_info": {
   "codemirror_mode": {
    "name": "ipython",
    "version": 3
   },
   "file_extension": ".py",
   "mimetype": "text/x-python",
   "name": "python",
   "nbconvert_exporter": "python",
   "pygments_lexer": "ipython3",
   "version": "3.7.4"
  },
  "pycharm": {
   "stem_cell": {
    "cell_type": "raw",
    "source": [],
    "metadata": {
     "collapsed": false
    }
   }
  }
 },
 "nbformat": 4,
 "nbformat_minor": 1
}