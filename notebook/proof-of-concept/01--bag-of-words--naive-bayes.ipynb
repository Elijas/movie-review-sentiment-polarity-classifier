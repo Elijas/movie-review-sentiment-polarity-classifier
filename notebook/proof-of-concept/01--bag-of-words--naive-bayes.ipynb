{
 "cells": [
  {
   "cell_type": "code",
   "execution_count": null,
   "metadata": {
    "pycharm": {
     "is_executing": false,
     "name": "#%%\n"
    }
   },
   "outputs": [],
   "source": [
    "import random\n",
    "from collections import Counter\n",
    "from pathlib import Path\n",
    "from pprint import pprint\n",
    "import pickle\n",
    "\n",
    "import nltk\n",
    "\n",
    "# Paths for files\n",
    "ROOT_FOLDERPATH = Path.cwd().parent.parent\n",
    "DATASET_FOLDERPATH = ROOT_FOLDERPATH / 'data' / 'raw'\n",
    "NEG_DATASET_FILEPATH = DATASET_FOLDERPATH / 'rt-polarity.neg'\n",
    "POS_DATASET_FILEPATH = DATASET_FOLDERPATH / 'rt-polarity.pos'\n",
    "MODEL_FILEPATH = ROOT_FOLDERPATH / 'model' / 'poc-01--bag-of-words--naive-bayes.pickle'\n",
    "\n",
    "# Data labels\n",
    "POS = 'POS'\n",
    "NEG = 'NEG'\n",
    "\n",
    "# Magic values\n",
    "RANDOMNESS_SEED = 834"
   ]
  },
  {
   "cell_type": "markdown",
   "metadata": {
    "pycharm": {
     "name": "#%% md\n"
    }
   },
   "source": [
    "# Data preprocessing\n",
    "##### Overview the formatting"
   ]
  },
  {
   "cell_type": "code",
   "execution_count": null,
   "metadata": {
    "pycharm": {
     "is_executing": false,
     "name": "#%%\n"
    }
   },
   "outputs": [],
   "source": [
    "linecount = 3\n",
    "with NEG_DATASET_FILEPATH.open() as dataset:\n",
    "    head = [next(dataset) for x in range(linecount)]\n",
    "print(*head, sep='\\n')"
   ]
  },
  {
   "cell_type": "markdown",
   "metadata": {
    "pycharm": {
     "name": "#%% md\n"
    }
   },
   "source": [
    "##### Load the dataset to memory"
   ]
  },
  {
   "cell_type": "code",
   "execution_count": null,
   "metadata": {
    "pycharm": {
     "is_executing": false,
     "name": "#%%\n"
    }
   },
   "outputs": [],
   "source": [
    "with NEG_DATASET_FILEPATH.open() as file:\n",
    "    corpus_neg = file.readlines()\n",
    "    \n",
    "with POS_DATASET_FILEPATH.open() as file:\n",
    "    corpus_pos = file.readlines()"
   ]
  },
  {
   "cell_type": "markdown",
   "metadata": {},
   "source": [
    "##### Transform and clean data"
   ]
  },
  {
   "cell_type": "code",
   "execution_count": null,
   "metadata": {
    "pycharm": {
     "is_executing": false,
     "name": "#%%\n"
    }
   },
   "outputs": [],
   "source": [
    "nltk.download('stopwords', quiet=True, raise_on_error=True)\n",
    "nltk_stop_words = list(set(nltk.corpus.stopwords.words('english')))\n",
    "nltk.download('punkt', quiet=True, raise_on_error=True)\n",
    "nltk_porter_stemmer = nltk.stem.PorterStemmer()\n",
    "\n",
    "def line_to_preprocessed_tokens(line):\n",
    "    tokens = nltk.word_tokenize(line)\n",
    "    tokens = (token for token in tokens if token.isalpha())  # Remove words with non-alphabet characters\n",
    "    tokens = (token for token in tokens if token not in nltk_stop_words)  # Remove stop words\n",
    "    tokens = (nltk_porter_stemmer.stem(token) for token in tokens)  # Stemming\n",
    "    return list(tokens)\n",
    "\n",
    "# Smoke test\n",
    "line_to_preprocessed_tokens('I think this movie is great !')"
   ]
  },
  {
   "cell_type": "code",
   "execution_count": null,
   "metadata": {
    "pycharm": {
     "is_executing": false,
     "name": "#%%\n"
    }
   },
   "outputs": [],
   "source": [
    "def preprocess_corpus(corpus):\n",
    "    corpus = (line_to_preprocessed_tokens(line) for line in corpus)\n",
    "    return [tokens for tokens in corpus if tokens]  # Remove empty lists\n",
    "\n",
    "tokens_dataset_neg = preprocess_corpus(corpus_neg)\n",
    "tokens_dataset_pos = preprocess_corpus(corpus_pos)"
   ]
  },
  {
   "cell_type": "code",
   "execution_count": null,
   "metadata": {
    "pycharm": {
     "is_executing": false,
     "name": "#%%\n"
    }
   },
   "outputs": [],
   "source": [
    "# Smoke test\n",
    "print(*tokens_dataset_neg[0:3], sep='\\n')"
   ]
  },
  {
   "cell_type": "markdown",
   "metadata": {},
   "source": [
    "# Feature extraction\n",
    "##### Select most frequent tokens as features"
   ]
  },
  {
   "cell_type": "code",
   "execution_count": null,
   "metadata": {
    "pycharm": {
     "is_executing": false,
     "name": "#%%\n"
    }
   },
   "outputs": [],
   "source": [
    "feature_tokens_count = 3000\n",
    "\n",
    "def get_all_tokens_from_dataset(tokens_dataset):\n",
    "    return [word for line in tokens_dataset for word in line]  # Flatten a 2D array\n",
    "\n",
    "tokens_neg = get_all_tokens_from_dataset(tokens_dataset_neg)\n",
    "tokens_pos = get_all_tokens_from_dataset(tokens_dataset_pos)\n",
    "\n",
    "all_tokens = tokens_neg + tokens_pos\n",
    "feature_tokens = [t[0] for t in Counter(all_tokens).most_common(feature_tokens_count)]\n",
    "\n",
    "print(f\"First 10 selected features ({len(feature_tokens)} in total):\")\n",
    "print(*[f\"{id+1}. {a}\" for id, a in enumerate(feature_tokens[:10])], sep='\\n')"
   ]
  },
  {
   "cell_type": "markdown",
   "metadata": {
    "pycharm": {
     "name": "#%% md\n"
    }
   },
   "source": [
    "# Training "
   ]
  },
  {
   "cell_type": "markdown",
   "metadata": {},
   "source": [
    "### Prepare the input\n",
    "##### Create a dataset with (x, y) pairs"
   ]
  },
  {
   "cell_type": "code",
   "execution_count": null,
   "metadata": {
    "pycharm": {
     "is_executing": false,
     "name": "#%%\n"
    }
   },
   "outputs": [],
   "source": [
    "def tokens_to_model_input(tokens):\n",
    "    model_input = {}\n",
    "    for token in tokens:\n",
    "        model_input[token] = (token in feature_tokens)\n",
    "    return model_input\n",
    "\n",
    "dataset = []\n",
    "dataset.extend((tokens_to_model_input(tokens), POS) for tokens in tokens_dataset_pos)\n",
    "dataset.extend((tokens_to_model_input(tokens), NEG) for tokens in tokens_dataset_neg)\n",
    "\n",
    "# Smoke test\n",
    "print(first_data_element)"
   ]
  },
  {
   "cell_type": "markdown",
   "metadata": {
    "pycharm": {
     "name": "#%% md\n"
    }
   },
   "source": [
    "##### Shuffle the dataset"
   ]
  },
  {
   "cell_type": "code",
   "execution_count": null,
   "metadata": {
    "pycharm": {
     "is_executing": false,
     "name": "#%%\n"
    }
   },
   "outputs": [],
   "source": [
    "# Shuffle the dataset\n",
    "random.seed(RANDOMNESS_SEED)\n",
    "random.shuffle(dataset)"
   ]
  },
  {
   "cell_type": "markdown",
   "metadata": {
    "pycharm": {
     "name": "#%% md\n"
    }
   },
   "source": [
    "##### Split the dataset"
   ]
  },
  {
   "cell_type": "code",
   "execution_count": null,
   "metadata": {
    "pycharm": {
     "is_executing": false,
     "name": "#%%\n"
    }
   },
   "outputs": [],
   "source": [
    "training_testing_split_ratio = 0.80\n",
    "split_index = int(training_testing_split_ratio * len(dataset))\n",
    "training_dataset, testing_dataset = dataset[:split_index], dataset[split_index:]\n",
    "\n",
    "print(f\"Training dataset size: {len(training_dataset)}\")\n",
    "print(f\"Testing dataset size: {len(testing_dataset)}\")"
   ]
  },
  {
   "cell_type": "markdown",
   "metadata": {},
   "source": [
    "### Run the training\n",
    "##### Train the Naive Bayes Classifier"
   ]
  },
  {
   "cell_type": "code",
   "execution_count": null,
   "metadata": {
    "pycharm": {
     "is_executing": false,
     "name": "#%%\n"
    }
   },
   "outputs": [],
   "source": [
    "classifier = nltk.NaiveBayesClassifier.train(training_dataset)"
   ]
  },
  {
   "cell_type": "markdown",
   "metadata": {},
   "source": [
    "##### Save the model"
   ]
  },
  {
   "cell_type": "code",
   "execution_count": null,
   "metadata": {
    "pycharm": {
     "is_executing": false,
     "name": "#%%\n"
    }
   },
   "outputs": [],
   "source": [
    "with MODEL_FILEPATH.open('wb') as file:\n",
    "    pickle.dump(classifier, file)\n",
    "    print(\"Saved.\")"
   ]
  },
  {
   "cell_type": "markdown",
   "metadata": {},
   "source": [
    "##### Show most informative features"
   ]
  },
  {
   "cell_type": "code",
   "execution_count": null,
   "metadata": {
    "pycharm": {
     "is_executing": false,
     "name": "#%%\n"
    }
   },
   "outputs": [],
   "source": [
    "classifier.show_most_informative_features(20)"
   ]
  },
  {
   "cell_type": "markdown",
   "metadata": {},
   "source": [
    "# Performance evaluation"
   ]
  },
  {
   "cell_type": "markdown",
   "metadata": {},
   "source": [
    "##### Test set accuracy"
   ]
  },
  {
   "cell_type": "code",
   "execution_count": null,
   "metadata": {
    "pycharm": {
     "is_executing": false,
     "name": "#%%\n"
    }
   },
   "outputs": [],
   "source": [
    "test_accuracy = nltk.classify.accuracy(classifier, testing_dataset)\n",
    "print(f\"Test set accuracy: {test_accuracy * 100:.2f}%\")"
   ]
  },
  {
   "cell_type": "markdown",
   "metadata": {
    "pycharm": {
     "is_executing": false,
     "name": "#%% md\n"
    }
   },
   "source": [
    "# Deployment\n",
    "##### Example prediction"
   ]
  },
  {
   "cell_type": "code",
   "execution_count": null,
   "metadata": {
    "pycharm": {
     "is_executing": false,
     "name": "#%%\n"
    }
   },
   "outputs": [],
   "source": [
    "input_text = \"This movie was boring...\"\n",
    "\n",
    "def predict(input_text):\n",
    "    model_input = tokens_to_model_input(line_to_preprocessed_tokens(input_text))\n",
    "    with MODEL_FILEPATH.open('rb') as file:\n",
    "        classifier = pickle.load(file)\n",
    "    return classifier.classify(model_input)\n",
    "\n",
    "print(f'Sentence \"{input_text}\" is classified as \"{predict(input_text)}\"')"
   ]
  }
 ],
 "metadata": {
  "kernelspec": {
   "display_name": "Python 3",
   "language": "python",
   "name": "python3"
  },
  "language_info": {
   "codemirror_mode": {
    "name": "ipython",
    "version": 3
   },
   "file_extension": ".py",
   "mimetype": "text/x-python",
   "name": "python",
   "nbconvert_exporter": "python",
   "pygments_lexer": "ipython3",
   "version": "3.7.4"
  },
  "pycharm": {
   "stem_cell": {
    "cell_type": "raw",
    "metadata": {
     "collapsed": false
    },
    "source": []
   }
  }
 },
 "nbformat": 4,
 "nbformat_minor": 1
}
