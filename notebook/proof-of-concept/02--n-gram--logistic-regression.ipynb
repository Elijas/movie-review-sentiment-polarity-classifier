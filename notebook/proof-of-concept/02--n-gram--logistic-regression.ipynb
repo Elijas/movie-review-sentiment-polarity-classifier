{
 "cells": [
  {
   "cell_type": "code",
   "execution_count": 1,
   "metadata": {
    "pycharm": {
     "is_executing": false,
     "name": "#%%\n"
    }
   },
   "outputs": [],
   "source": [
    "import warnings\n",
    "from pathlib import Path\n",
    "import joblib\n",
    "import string\n",
    "\n",
    "import nltk\n",
    "from sklearn.model_selection import train_test_split, GridSearchCV\n",
    "from sklearn.feature_extraction.text import CountVectorizer\n",
    "from sklearn.linear_model import LogisticRegression\n",
    "from sklearn.model_selection import GridSearchCV\n",
    "import matplotlib.pyplot as plt\n",
    "with warnings.catch_warnings():\n",
    "    warnings.simplefilter(\"ignore\", category=DeprecationWarning)\n",
    "    # Hides two warnings:\n",
    "    # 1.\n",
    "    # sklearn\\externals\\six.py:31: DeprecationWarning: The module is \n",
    "    # deprecated in version 0.21 and will be removed in version 0.23\n",
    "    # 2.\n",
    "    # sklearn\\externals\\joblib\\__init__.py:15: DeprecationWarning: \n",
    "    # sklearn.externals.joblib is deprecated in 0.21 \n",
    "    # and will be removed in 0.23. \n",
    "    import mglearn  \n",
    "    \n",
    "# Paths for files\n",
    "ROOT_FOLDERPATH = Path.cwd().parent.parent\n",
    "DATASET_FOLDERPATH = ROOT_FOLDERPATH / 'data' / 'raw'\n",
    "NEG_DATASET_FILEPATH = DATASET_FOLDERPATH / 'rt-polarity.neg'\n",
    "POS_DATASET_FILEPATH = DATASET_FOLDERPATH / 'rt-polarity.pos'\n",
    "MODEL_FILEPATH = ROOT_FOLDERPATH / 'model' / 'poc-02--n-gram--logistic-regression.joblib'\n",
    "\n",
    "# Data labels\n",
    "POS = 1\n",
    "NEG = 0\n",
    "LABEL_NAMES = {\n",
    "    POS: \"Positive\",\n",
    "    NEG: \"Negative\"\n",
    "}\n",
    "\n",
    "# Magic values\n",
    "RANDOMNESS_SEED = 834\n",
    "DATASET_TEST_SPLIT_RATIO = 0.2"
   ]
  },
  {
   "cell_type": "markdown",
   "metadata": {
    "pycharm": {
     "name": "#%% md\n"
    }
   },
   "source": [
    "# Data preprocessing and Feature Extraction"
   ]
  },
  {
   "cell_type": "markdown",
   "metadata": {
    "pycharm": {
     "name": "#%% md\n"
    }
   },
   "source": [
    "##### Load the dataset to memory"
   ]
  },
  {
   "cell_type": "code",
   "execution_count": 3,
   "metadata": {
    "pycharm": {
     "is_executing": false,
     "name": "#%%\n"
    }
   },
   "outputs": [],
   "source": [
    "with NEG_DATASET_FILEPATH.open() as file:\n",
    "    corpus_neg = file.readlines()\n",
    "    \n",
    "with POS_DATASET_FILEPATH.open() as file:\n",
    "    corpus_pos = file.readlines()"
   ]
  },
  {
   "cell_type": "markdown",
   "metadata": {},
   "source": [
    "##### Split and shuffle the dataset"
   ]
  },
  {
   "cell_type": "code",
   "execution_count": 4,
   "metadata": {
    "pycharm": {
     "is_executing": false
    }
   },
   "outputs": [
    {
     "name": "stdout",
     "output_type": "stream",
     "text": [
      "Training dataset size: 8529\n",
      "Testing dataset size: 2133\n"
     ]
    }
   ],
   "source": [
    "corpus = corpus_neg + corpus_pos\n",
    "labels = [NEG] * len(corpus_neg) + [POS] * len(corpus_pos)\n",
    "training_corpus, testing_corpus, training_labels, testing_labels = train_test_split(\n",
    "        corpus, labels, \n",
    "        test_size=DATASET_TEST_SPLIT_RATIO, \n",
    "        random_state=RANDOMNESS_SEED)\n",
    "\n",
    "print(f\"Training dataset size: {len(training_corpus)}\")\n",
    "print(f\"Testing dataset size: {len(testing_corpus)}\")"
   ]
  },
  {
   "cell_type": "markdown",
   "metadata": {},
   "source": [
    "##### Clean data and Extract features"
   ]
  },
  {
   "cell_type": "code",
   "execution_count": 5,
   "metadata": {
    "pycharm": {
     "is_executing": true
    }
   },
   "outputs": [
    {
     "name": "stdout",
     "output_type": "stream",
     "text": [
      "<8529x3637 sparse matrix of type '<class 'numpy.int64'>'\n",
      "\twith 74499 stored elements in Compressed Sparse Row format>\n"
     ]
    }
   ],
   "source": [
    "nltk.download('stopwords', quiet=True, raise_on_error=True)\n",
    "stop_words = set(nltk.corpus.stopwords.words('english'))\n",
    "tokenized_stop_words = nltk.word_tokenize(' '.join(nltk.corpus.stopwords.words('english')))\n",
    "nltk.download('punkt', quiet=True, raise_on_error=True)\n",
    "stemmer = nltk.stem.PorterStemmer()\n",
    "\n",
    "class Tokenizer(object):\n",
    "    @staticmethod\n",
    "    def _stem(token):\n",
    "        # Solves error \"UserWarning: Your stop_words may be \n",
    "        # inconsistent with your preprocessing.\"\n",
    "        if (token in stop_words):\n",
    "            return token  \n",
    "        \n",
    "        return stemmer.stem(token)\n",
    "        \n",
    "    def __call__(self, line):\n",
    "        tokens = nltk.word_tokenize(line)\n",
    "        # Remove words with non-alphabet characters\n",
    "        tokens = (token for token in tokens if token.isalpha())  \n",
    "        tokens = (self._stem(token) for token in tokens)\n",
    "        return list(tokens)\n",
    "\n",
    "vectorizer = CountVectorizer(min_df=5, \n",
    "                            ngram_range=(1, 2),\n",
    "                            tokenizer=Tokenizer(),\n",
    "                            stop_words=tokenized_stop_words,\n",
    "                            lowercase=True)\n",
    "vectorizer.fit(training_corpus)\n",
    "training_input = vectorizer.transform(training_corpus)\n",
    "testing_input = vectorizer.transform(testing_corpus)\n",
    "\n",
    "# Show result\n",
    "print(repr(training_input))"
   ]
  },
  {
   "cell_type": "code",
   "execution_count": 6,
   "metadata": {},
   "outputs": [
    {
     "name": "stdout",
     "output_type": "stream",
     "text": [
      "First 10 selected features (3637 in total):\n",
      "1. abandon\n",
      "2. abil\n",
      "3. abl\n",
      "4. abli\n",
      "5. absolut\n",
      "6. absorb\n",
      "7. abstract\n",
      "8. absurd\n",
      "9. absurdist\n",
      "10. abus\n"
     ]
    }
   ],
   "source": [
    "amount = 10\n",
    "feature_tokens = vectorizer.get_feature_names()\n",
    "print(f\"First {amount} selected features ({len(feature_tokens)} in total):\")\n",
    "print(*[f\"{id+1}. {a}\" for id, a in enumerate(feature_tokens[:amount])], sep='\\n')"
   ]
  },
  {
   "cell_type": "markdown",
   "metadata": {},
   "source": [
    "# Training \n",
    "\n",
    "### Run the training\n",
    "\n",
    "##### Train the Naive Bayes Classifier"
   ]
  },
  {
   "cell_type": "code",
   "execution_count": 7,
   "metadata": {},
   "outputs": [
    {
     "name": "stdout",
     "output_type": "stream",
     "text": [
      "GridSearchCV(cv=5, error_score='raise-deprecating',\n",
      "             estimator=LogisticRegression(C=1.0, class_weight=None, dual=False,\n",
      "                                          fit_intercept=True,\n",
      "                                          intercept_scaling=1, l1_ratio=None,\n",
      "                                          max_iter=100, multi_class='warn',\n",
      "                                          n_jobs=None, penalty='l2',\n",
      "                                          random_state=None, solver='lbfgs',\n",
      "                                          tol=0.0001, verbose=0,\n",
      "                                          warm_start=False),\n",
      "             iid='warn', n_jobs=-1, param_grid={'C': [0.01, 0.1]},\n",
      "             pre_dispatch='2*n_jobs', refit=True, return_train_score=False,\n",
      "             scoring=None, verbose=0)\n",
      "Best cross-validation score: 0.74\n",
      "Best parameters:  {'C': 0.1}\n",
      "Best estimator:  LogisticRegression(C=0.1, class_weight=None, dual=False, fit_intercept=True,\n",
      "                   intercept_scaling=1, l1_ratio=None, max_iter=100,\n",
      "                   multi_class='warn', n_jobs=None, penalty='l2',\n",
      "                   random_state=None, solver='lbfgs', tol=0.0001, verbose=0,\n",
      "                   warm_start=False)\n"
     ]
    }
   ],
   "source": [
    "param_grid = {'C': [0.01, 0.1]}\n",
    "grid = GridSearchCV(LogisticRegression(solver='lbfgs'), param_grid, cv=5, n_jobs=-1)\n",
    "grid.fit(training_input, training_labels)\n",
    "classifier = grid.best_estimator_\n",
    "\n",
    "# Print initial and selected parameters of training\n",
    "print(repr(grid))\n",
    "print(\"Best cross-validation score: {:.2f}\".format(grid.best_score_))\n",
    "print(\"Best parameters: \", grid.best_params_)\n",
    "print(\"Best estimator: \", grid.best_estimator_)"
   ]
  },
  {
   "cell_type": "markdown",
   "metadata": {},
   "source": [
    "##### Save the model"
   ]
  },
  {
   "cell_type": "code",
   "execution_count": 8,
   "metadata": {},
   "outputs": [
    {
     "name": "stdout",
     "output_type": "stream",
     "text": [
      "Saved.\n"
     ]
    }
   ],
   "source": [
    "with MODEL_FILEPATH.open('wb') as file:\n",
    "    joblib.dump({\n",
    "        'classifier': classifier,\n",
    "        'vectorizer': vectorizer\n",
    "    }, file)\n",
    "    print(\"Saved.\")"
   ]
  },
  {
   "cell_type": "markdown",
   "metadata": {},
   "source": [
    "##### Show most informative features"
   ]
  },
  {
   "cell_type": "code",
   "execution_count": 9,
   "metadata": {},
   "outputs": [
    {
     "data": {
      "image/png": "[encoded data removed]",
      "text/plain": [
       "<Figure size 1080x360 with 1 Axes>"
      ]
     },
     "metadata": {
      "needs_background": "light"
     },
     "output_type": "display_data"
    }
   ],
   "source": [
    "mglearn.tools.visualize_coefficients(grid.best_estimator_.coef_, feature_tokens, n_top_features=15)\n",
    "plt.show()"
   ]
  },
  {
   "cell_type": "markdown",
   "metadata": {},
   "source": [
    "# Performance evaluation\n",
    "##### Test set accuracy"
   ]
  },
  {
   "cell_type": "code",
   "execution_count": 10,
   "metadata": {},
   "outputs": [
    {
     "name": "stdout",
     "output_type": "stream",
     "text": [
      "Test set accuracy: 72.34%\n"
     ]
    }
   ],
   "source": [
    "classifier.predict(testing_input)\n",
    "test_accuracy = classifier.score(testing_input, testing_labels)\n",
    "print(f\"Test set accuracy: {test_accuracy * 100:.2f}%\")"
   ]
  },
  {
   "cell_type": "markdown",
   "metadata": {},
   "source": [
    "# Deployment\n",
    "##### Example prediction"
   ]
  },
  {
   "cell_type": "code",
   "execution_count": 11,
   "metadata": {},
   "outputs": [
    {
     "name": "stdout",
     "output_type": "stream",
     "text": [
      "Sentence \"This movie was boring...\" is classified as Negative\n"
     ]
    }
   ],
   "source": [
    "input_text = \"This movie was boring...\"\n",
    "\n",
    "def predict(input_text):\n",
    "    with MODEL_FILEPATH.open('rb') as file_:\n",
    "        file_contents = joblib.load(file_)\n",
    "        \n",
    "    classifier = file_contents['classifier']\n",
    "    vectorizer = file_contents['vectorizer']\n",
    "    \n",
    "    model_input = vectorizer.transform([input_text])\n",
    "    return classifier.predict(model_input)[0]\n",
    "\n",
    "print(f'Sentence \"{input_text}\" is classified as {LABEL_NAMES[predict(input_text)]}')"
   ]
  }
 ],
 "metadata": {
  "kernelspec": {
   "display_name": "Python 3",
   "language": "python",
   "name": "python3"
  },
  "language_info": {
   "codemirror_mode": {
    "name": "ipython",
    "version": 3
   },
   "file_extension": ".py",
   "mimetype": "text/x-python",
   "name": "python",
   "nbconvert_exporter": "python",
   "pygments_lexer": "ipython3",
   "version": "3.7.4"
  },
  "pycharm": {
   "stem_cell": {
    "cell_type": "raw",
    "metadata": {
     "collapsed": false
    },
    "source": []
   }
  }
 },
 "nbformat": 4,
 "nbformat_minor": 1
}
