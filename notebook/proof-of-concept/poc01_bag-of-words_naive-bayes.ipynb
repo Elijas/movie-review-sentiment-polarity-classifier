{
 "cells": [
  {
   "cell_type": "code",
   "execution_count": 1,
   "metadata": {
    "pycharm": {
     "is_executing": false,
     "name": "#%%\n"
    }
   },
   "outputs": [],
   "source": [
    "import random\n",
    "from collections import Counter\n",
    "from pathlib import Path\n",
    "import sys\n",
    "\n",
    "import dill\n",
    "import nltk\n",
    "\n",
    "ROOT_FOLDERPATH = Path.cwd().parent.parent\n",
    "sys.path.append(str(ROOT_FOLDERPATH))\n",
    "from src.preparation.load_data import load_raw_corpus_posneg\n",
    "\n",
    "# Paths for files\n",
    "MODEL_FILEPATH = ROOT_FOLDERPATH / 'model' / 'poc01.dill'\n",
    "\n",
    "# Data labels\n",
    "POS = 'POS'\n",
    "NEG = 'NEG'\n",
    "LABEL_NAMES = {\n",
    "    POS: \"Positive\",\n",
    "    NEG: \"Negative\"\n",
    "}\n",
    "\n",
    "# Magic values\n",
    "RANDOMNESS_SEED = 834\n",
    "DATASET_TEST_SPLIT_RATIO = 0.2"
   ]
  },
  {
   "cell_type": "markdown",
   "metadata": {
    "pycharm": {
     "name": "#%% md\n"
    }
   },
   "source": [
    "# Data preprocessing\n",
    "##### Load the dataset to memory"
   ]
  },
  {
   "cell_type": "code",
   "execution_count": 2,
   "metadata": {
    "pycharm": {
     "is_executing": false,
     "name": "#%%\n"
    }
   },
   "outputs": [],
   "source": [
    "corpus_pos, corpus_neg = load_raw_corpus_posneg()"
   ]
  },
  {
   "cell_type": "markdown",
   "metadata": {},
   "source": [
    "##### Transform and clean data"
   ]
  },
  {
   "cell_type": "code",
   "execution_count": 3,
   "metadata": {
    "pycharm": {
     "is_executing": false,
     "name": "#%%\n"
    }
   },
   "outputs": [
    {
     "data": {
      "text/plain": [
       "['think', 'movi', 'great']"
      ]
     },
     "execution_count": 3,
     "metadata": {},
     "output_type": "execute_result"
    }
   ],
   "source": [
    "nltk.download('stopwords', quiet=True, raise_on_error=True)\n",
    "nltk_stop_words = list(set(nltk.corpus.stopwords.words('english')))\n",
    "nltk.download('punkt', quiet=True, raise_on_error=True)\n",
    "nltk_porter_stemmer = nltk.stem.PorterStemmer()\n",
    "\n",
    "def line_to_preprocessed_tokens(line):\n",
    "    tokens = nltk.word_tokenize(line)\n",
    "    tokens = (token.lower() for token in tokens)  # Ensure lower-case characters\n",
    "    # Remove words with non-alphabet characters\n",
    "    tokens = (token for token in tokens if token.isalpha())\n",
    "    tokens = (token for token in tokens if token not in nltk_stop_words)  # Remove stop words\n",
    "    tokens = (nltk_porter_stemmer.stem(token) for token in tokens)  # Stemming\n",
    "    return list(tokens)\n",
    "\n",
    "# Show result\n",
    "line_to_preprocessed_tokens('I think this movie is great !')"
   ]
  },
  {
   "cell_type": "code",
   "execution_count": 4,
   "metadata": {
    "pycharm": {
     "is_executing": false,
     "name": "#%%\n"
    }
   },
   "outputs": [],
   "source": [
    "def preprocess_corpus(corpus):\n",
    "    corpus = (line_to_preprocessed_tokens(line) for line in corpus)\n",
    "    return [tokens for tokens in corpus if tokens]  # Remove empty lists\n",
    "\n",
    "tokens_dataset_neg = preprocess_corpus(corpus_neg)\n",
    "tokens_dataset_pos = preprocess_corpus(corpus_pos)"
   ]
  },
  {
   "cell_type": "code",
   "execution_count": 5,
   "metadata": {
    "pycharm": {
     "is_executing": false,
     "name": "#%%\n"
    }
   },
   "outputs": [
    {
     "name": "stdout",
     "output_type": "stream",
     "text": [
      "['simplist', 'silli', 'tediou']\n",
      "['laddish', 'juvenil', 'teenag', 'boy', 'could', 'possibl', 'find', 'funni']\n",
      "['exploit', 'larg', 'devoid', 'depth', 'sophist', 'would', 'make', 'watch', 'graphic', 'treatment', 'crime', 'bearabl']\n"
     ]
    }
   ],
   "source": [
    "# Show result\n",
    "print(*tokens_dataset_neg[0:3], sep='\\n')"
   ]
  },
  {
   "cell_type": "markdown",
   "metadata": {},
   "source": [
    "# Feature extraction\n",
    "##### Select most frequent tokens as features"
   ]
  },
  {
   "cell_type": "code",
   "execution_count": 6,
   "metadata": {
    "pycharm": {
     "is_executing": false,
     "name": "#%%\n"
    }
   },
   "outputs": [
    {
     "name": "stdout",
     "output_type": "stream",
     "text": [
      "First 10 selected features (3000 in total):\n",
      "1. film\n",
      "2. movi\n",
      "3. like\n",
      "4. one\n",
      "5. make\n",
      "6. stori\n",
      "7. charact\n",
      "8. time\n",
      "9. comedi\n",
      "10. good\n"
     ]
    }
   ],
   "source": [
    "feature_tokens_count = 3000\n",
    "\n",
    "def get_all_tokens_from_dataset(tokens_dataset):\n",
    "    return [word for line in tokens_dataset for word in line]  # Flatten a 2D array\n",
    "\n",
    "tokens_neg = get_all_tokens_from_dataset(tokens_dataset_neg)\n",
    "tokens_pos = get_all_tokens_from_dataset(tokens_dataset_pos)\n",
    "\n",
    "all_tokens = tokens_neg + tokens_pos\n",
    "feature_tokens = [t[0] for t in Counter(all_tokens).most_common(feature_tokens_count)]\n",
    "\n",
    "# Show result\n",
    "print(f\"First 10 selected features ({len(feature_tokens)} in total):\")\n",
    "print(*[f\"{id+1}. {a}\" for id, a in enumerate(feature_tokens[:10])], sep='\\n')"
   ]
  },
  {
   "cell_type": "markdown",
   "metadata": {
    "pycharm": {
     "name": "#%% md\n"
    }
   },
   "source": [
    "# Training \n",
    "\n",
    "### Prepare the input\n",
    "##### Create a dataset with (x, y) pairs"
   ]
  },
  {
   "cell_type": "code",
   "execution_count": 7,
   "metadata": {
    "pycharm": {
     "is_executing": false,
     "name": "#%%\n"
    }
   },
   "outputs": [
    {
     "name": "stdout",
     "output_type": "stream",
     "text": [
      "({'rock': True, 'destin': True, 'centuri': True, 'new': True, 'conan': False, 'go': True, 'make': True, 'splash': True, 'even': True, 'greater': True, 'arnold': True, 'schwarzenegg': True, 'van': True, 'damm': False, 'steven': True, 'segal': False}, 'POS')\n"
     ]
    }
   ],
   "source": [
    "def tokens_to_model_input(tokens):\n",
    "    model_input = {}\n",
    "    for token in tokens:\n",
    "        model_input[token] = (token in feature_tokens)\n",
    "    return model_input\n",
    "\n",
    "dataset = []\n",
    "dataset.extend((tokens_to_model_input(tokens), POS) for tokens in tokens_dataset_pos)\n",
    "dataset.extend((tokens_to_model_input(tokens), NEG) for tokens in tokens_dataset_neg)\n",
    "\n",
    "# Show result\n",
    "print(dataset[0])"
   ]
  },
  {
   "cell_type": "markdown",
   "metadata": {
    "pycharm": {
     "name": "#%% md\n"
    }
   },
   "source": [
    "##### Shuffle the dataset"
   ]
  },
  {
   "cell_type": "code",
   "execution_count": 8,
   "metadata": {
    "pycharm": {
     "is_executing": false,
     "name": "#%%\n"
    }
   },
   "outputs": [],
   "source": [
    "# Shuffle the dataset\n",
    "random.seed(RANDOMNESS_SEED)\n",
    "random.shuffle(dataset)"
   ]
  },
  {
   "cell_type": "markdown",
   "metadata": {
    "pycharm": {
     "name": "#%% md\n"
    }
   },
   "source": [
    "##### Split the dataset"
   ]
  },
  {
   "cell_type": "code",
   "execution_count": 9,
   "metadata": {
    "pycharm": {
     "is_executing": false,
     "name": "#%%\n"
    }
   },
   "outputs": [
    {
     "name": "stdout",
     "output_type": "stream",
     "text": [
      "Training dataset size: 8524\n",
      "Testing dataset size: 2132\n"
     ]
    }
   ],
   "source": [
    "test_split_ratio = 1 - DATASET_TEST_SPLIT_RATIO\n",
    "split_index = int(test_split_ratio * len(dataset))\n",
    "training_dataset, testing_dataset = dataset[:split_index], dataset[split_index:]\n",
    "\n",
    "print(f\"Training dataset size: {len(training_dataset)}\")\n",
    "print(f\"Testing dataset size: {len(testing_dataset)}\")"
   ]
  },
  {
   "cell_type": "markdown",
   "metadata": {},
   "source": [
    "### Run the training\n",
    "##### Train the Naive Bayes Classifier"
   ]
  },
  {
   "cell_type": "code",
   "execution_count": 10,
   "metadata": {
    "pycharm": {
     "is_executing": false,
     "name": "#%%\n"
    }
   },
   "outputs": [],
   "source": [
    "classifier = nltk.NaiveBayesClassifier.train(training_dataset)"
   ]
  },
  {
   "cell_type": "markdown",
   "metadata": {},
   "source": [
    "##### Save the model"
   ]
  },
  {
   "cell_type": "code",
   "execution_count": 11,
   "metadata": {
    "pycharm": {
     "is_executing": false,
     "name": "#%%\n"
    }
   },
   "outputs": [
    {
     "name": "stdout",
     "output_type": "stream",
     "text": [
      "Saved.\n"
     ]
    }
   ],
   "source": [
    "def text_to_model_input(input_text):\n",
    "    return tokens_to_model_input(line_to_preprocessed_tokens(input_text))\n",
    "\n",
    "with MODEL_FILEPATH.open('wb') as file:\n",
    "    dill.dump({\n",
    "        'classifier': classifier,\n",
    "        'text_to_model_input': text_to_model_input\n",
    "    }, file)\n",
    "    print(\"Saved.\")"
   ]
  },
  {
   "cell_type": "markdown",
   "metadata": {},
   "source": [
    "##### Show most informative features"
   ]
  },
  {
   "cell_type": "code",
   "execution_count": 12,
   "metadata": {
    "pycharm": {
     "is_executing": false,
     "name": "#%%\n"
    }
   },
   "outputs": [
    {
     "name": "stdout",
     "output_type": "stream",
     "text": [
      "Most Informative Features\n",
      "                 mediocr = True              NEG : POS    =     15.8 : 1.0\n",
      "                 refresh = True              POS : NEG    =     15.5 : 1.0\n",
      "                    bore = True              NEG : POS    =     14.7 : 1.0\n",
      "                   intim = True              POS : NEG    =     13.6 : 1.0\n",
      "                    flat = True              NEG : POS    =     13.1 : 1.0\n",
      "            refreshingli = True              POS : NEG    =     12.9 : 1.0\n",
      "                  suppos = True              NEG : POS    =     12.4 : 1.0\n",
      "                 realist = True              POS : NEG    =     12.2 : 1.0\n",
      "                 engross = True              POS : NEG    =     12.2 : 1.0\n",
      "                    dull = True              NEG : POS    =     12.0 : 1.0\n",
      "                   appar = True              NEG : POS    =     11.8 : 1.0\n",
      "                  stupid = True              NEG : POS    =     10.7 : 1.0\n",
      "                   solid = True              POS : NEG    =     10.6 : 1.0\n",
      "                    wast = True              NEG : POS    =     10.5 : 1.0\n",
      "                     car = True              NEG : POS    =     10.4 : 1.0\n",
      "                  warmth = True              POS : NEG    =     10.3 : 1.0\n",
      "                  offens = True              NEG : POS    =      9.7 : 1.0\n",
      "                 quietli = True              POS : NEG    =      9.6 : 1.0\n",
      "                  embrac = True              POS : NEG    =      9.6 : 1.0\n",
      "                  routin = True              NEG : POS    =      9.5 : 1.0\n"
     ]
    }
   ],
   "source": [
    "classifier.show_most_informative_features(20)"
   ]
  },
  {
   "cell_type": "markdown",
   "metadata": {},
   "source": [
    "# Performance evaluation\n",
    "##### Test set accuracy"
   ]
  },
  {
   "cell_type": "code",
   "execution_count": 13,
   "metadata": {
    "pycharm": {
     "is_executing": false,
     "name": "#%%\n"
    }
   },
   "outputs": [
    {
     "name": "stdout",
     "output_type": "stream",
     "text": [
      "Test set accuracy: 76.59%\n"
     ]
    }
   ],
   "source": [
    "test_accuracy = nltk.classify.accuracy(classifier, testing_dataset)\n",
    "print(f\"Test set accuracy: {test_accuracy * 100:.2f}%\")"
   ]
  },
  {
   "cell_type": "markdown",
   "metadata": {
    "pycharm": {
     "is_executing": false,
     "name": "#%% md\n"
    }
   },
   "source": [
    "# Deployment\n",
    "##### Example prediction"
   ]
  },
  {
   "cell_type": "code",
   "execution_count": 14,
   "metadata": {
    "pycharm": {
     "is_executing": false,
     "name": "#%%\n"
    }
   },
   "outputs": [
    {
     "name": "stdout",
     "output_type": "stream",
     "text": [
      "Sentence \"This movie was boring...\" is classified as Negative\n"
     ]
    }
   ],
   "source": [
    "input_text = \"This movie was boring...\"\n",
    "\n",
    "def predict(input_text):\n",
    "    with MODEL_FILEPATH.open('rb') as file_:\n",
    "        file_contents = dill.load(file_)\n",
    "        \n",
    "    classifier = file_contents['classifier']\n",
    "    text_to_model_input = file_contents['text_to_model_input']\n",
    "    \n",
    "    model_input = text_to_model_input(input_text)\n",
    "    return classifier.classify(model_input)\n",
    "\n",
    "print(f'Sentence \"{input_text}\" is classified as {LABEL_NAMES[predict(input_text)]}')"
   ]
  }
 ],
 "metadata": {
  "kernelspec": {
   "display_name": "Python 3",
   "language": "python",
   "name": "python3"
  },
  "language_info": {
   "codemirror_mode": {
    "name": "ipython",
    "version": 3
   },
   "file_extension": ".py",
   "mimetype": "text/x-python",
   "name": "python",
   "nbconvert_exporter": "python",
   "pygments_lexer": "ipython3",
   "version": "3.7.4"
  },
  "pycharm": {
   "stem_cell": {
    "cell_type": "raw",
    "source": [],
    "metadata": {
     "collapsed": false
    }
   }
  }
 },
 "nbformat": 4,
 "nbformat_minor": 1
}