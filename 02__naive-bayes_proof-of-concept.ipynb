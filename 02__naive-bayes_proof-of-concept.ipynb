{
 "cells": [
  {
   "cell_type": "code",
   "execution_count": 1,
   "metadata": {
    "pycharm": {
     "is_executing": false,
     "name": "#%%\n"
    }
   },
   "outputs": [],
   "source": [
    "import collections\n",
    "import random\n",
    "from collections import Counter\n",
    "\n",
    "import nltk\n",
    "\n",
    "from src import const\n",
    "from src.io import get_corpus, Dataset, get_label_title\n",
    "from src.processing import process_strings_to_token_lists, process_string_to_tokens"
   ]
  },
  {
   "cell_type": "markdown",
   "metadata": {
    "pycharm": {
     "name": "#%% md\n"
    }
   },
   "source": [
    "# Data preprocessing\n",
    "##### Load the dataset to memory"
   ]
  },
  {
   "cell_type": "code",
   "execution_count": 2,
   "metadata": {
    "pycharm": {
     "is_executing": false,
     "name": "#%%\n"
    }
   },
   "outputs": [],
   "source": [
    "corpus = get_corpus()"
   ]
  },
  {
   "cell_type": "markdown",
   "metadata": {},
   "source": [
    "##### Transform and clean data"
   ]
  },
  {
   "cell_type": "code",
   "execution_count": 3,
   "metadata": {
    "pycharm": {
     "name": "#%%\n"
    }
   },
   "outputs": [
    {
     "data": {
      "text/plain": [
       "['think', 'movi', 'great']"
      ]
     },
     "execution_count": 3,
     "metadata": {},
     "output_type": "execute_result"
    }
   ],
   "source": [
    "# Processed example\n",
    "process_string_to_tokens('I think this movie is great !')"
   ]
  },
  {
   "cell_type": "code",
   "execution_count": 4,
   "metadata": {
    "pycharm": {
     "is_executing": false,
     "name": "#%%\n"
    }
   },
   "outputs": [],
   "source": [
    "TokensList = collections.namedtuple('Tokens', 'neg pos all')\n",
    "tokens_list = TokensList(neg=process_strings_to_token_lists(corpus.neg),\n",
    "                         pos=process_strings_to_token_lists(corpus.pos),\n",
    "                         all=process_strings_to_token_lists(corpus.neg + corpus.pos))"
   ]
  },
  {
   "cell_type": "code",
   "execution_count": 5,
   "metadata": {
    "pycharm": {
     "is_executing": false,
     "name": "#%%\n"
    }
   },
   "outputs": [
    {
     "name": "stdout",
     "output_type": "stream",
     "text": [
      "['simplist', 'silli', 'tediou']\n",
      "['laddish', 'juvenil', 'teenag', 'boy', 'could', 'possibl', 'find', 'funni']\n",
      "['exploit', 'larg', 'devoid', 'depth', 'sophist', 'would', 'make', 'watch', 'graphic', 'treatment', 'crime', 'bearabl']\n"
     ]
    }
   ],
   "source": [
    "# Show result\n",
    "print(*tokens_list.neg[0:3], sep='\\n')"
   ]
  },
  {
   "cell_type": "markdown",
   "metadata": {},
   "source": [
    "# Feature extraction\n",
    "##### Select most frequent tokens as features"
   ]
  },
  {
   "cell_type": "code",
   "execution_count": 6,
   "metadata": {
    "pycharm": {
     "is_executing": false,
     "name": "#%%\n"
    }
   },
   "outputs": [
    {
     "name": "stdout",
     "output_type": "stream",
     "text": [
      "First 10 selected features (3000 in total):\n",
      "1. film\n",
      "2. movi\n",
      "3. like\n",
      "4. one\n",
      "5. make\n",
      "6. stori\n",
      "7. charact\n",
      "8. time\n",
      "9. comedi\n",
      "10. good\n"
     ]
    }
   ],
   "source": [
    "feature_tokens_count = 3000\n",
    "\n",
    "def flatten_2d_array(matrix):\n",
    "    return [element for vector in matrix for element in vector]\n",
    "\n",
    "feature_tokens = [t[0] for t in Counter(flatten_2d_array(tokens_list.all)).most_common(feature_tokens_count)]\n",
    "\n",
    "# Show result\n",
    "print(f\"First 10 selected features ({len(feature_tokens)} in total):\")\n",
    "print(*[f\"{id_+1}. {a}\" for id_, a in enumerate(feature_tokens[:10])], sep='\\n')"
   ]
  },
  {
   "cell_type": "markdown",
   "metadata": {
    "pycharm": {
     "name": "#%% md\n"
    }
   },
   "source": [
    "# Training \n",
    "\n",
    "### Prepare the input\n",
    "##### Create a dataset with (x, y) pairs"
   ]
  },
  {
   "cell_type": "code",
   "execution_count": 7,
   "metadata": {
    "pycharm": {
     "is_executing": false,
     "name": "#%%\n"
    }
   },
   "outputs": [
    {
     "name": "stdout",
     "output_type": "stream",
     "text": [
      "({'rock': True, 'destin': True, 'centuri': True, 'new': True, 'conan': False, 'go': True, 'make': True, 'splash': True, 'even': True, 'greater': True, 'arnold': True, 'schwarzenegg': True, 'van': True, 'damm': False, 'steven': True, 'segal': False}, 'Positive')\n"
     ]
    }
   ],
   "source": [
    "def tokens_to_model_input(tokens):\n",
    "    model_input = {}\n",
    "    for token in tokens:\n",
    "        model_input[token] = (token in feature_tokens)\n",
    "    return model_input\n",
    "\n",
    "dataset_full = []\n",
    "dataset_full.extend((tokens_to_model_input(tokens), get_label_title(const.LABELS.POS))\n",
    "                    for tokens in tokens_list.pos)\n",
    "dataset_full.extend((tokens_to_model_input(tokens), get_label_title(const.LABELS.NEG)) \n",
    "                    for tokens in tokens_list.neg)\n",
    "\n",
    "# Show result\n",
    "print(dataset_full[0])"
   ]
  },
  {
   "cell_type": "markdown",
   "metadata": {
    "pycharm": {
     "name": "#%% md\n"
    }
   },
   "source": [
    "##### Shuffle the dataset"
   ]
  },
  {
   "cell_type": "code",
   "execution_count": 8,
   "metadata": {
    "pycharm": {
     "is_executing": false,
     "name": "#%%\n"
    }
   },
   "outputs": [],
   "source": [
    "# Shuffle the dataset\n",
    "random.seed(const.RANDOMNESS_SEED)\n",
    "random.shuffle(dataset_full)"
   ]
  },
  {
   "cell_type": "markdown",
   "metadata": {
    "pycharm": {
     "name": "#%% md\n"
    }
   },
   "source": [
    "##### Split the dataset"
   ]
  },
  {
   "cell_type": "code",
   "execution_count": 9,
   "metadata": {
    "pycharm": {
     "is_executing": false,
     "name": "#%%\n"
    }
   },
   "outputs": [
    {
     "name": "stdout",
     "output_type": "stream",
     "text": [
      "Training dataset size: 8524\n",
      "Testing dataset size: 2132\n"
     ]
    }
   ],
   "source": [
    "test_split_ratio = 1 - const.DATASET_TEST_SPLIT_RATIO\n",
    "split_index = int(test_split_ratio * len(dataset_full))\n",
    "dataset = Dataset(dataset_full[:split_index], dataset_full[split_index:])\n",
    "\n",
    "print(f\"Training dataset size: {len(dataset.trn)}\")\n",
    "print(f\"Testing dataset size: {len(dataset.tst)}\")"
   ]
  },
  {
   "cell_type": "markdown",
   "metadata": {},
   "source": [
    "### Run the training\n",
    "##### Train the Naive Bayes Classifier"
   ]
  },
  {
   "cell_type": "code",
   "execution_count": 10,
   "metadata": {
    "pycharm": {
     "is_executing": false,
     "name": "#%%\n"
    }
   },
   "outputs": [],
   "source": [
    "classifier = nltk.NaiveBayesClassifier.train(dataset.trn)"
   ]
  },
  {
   "cell_type": "markdown",
   "metadata": {},
   "source": [
    "##### Show most informative features"
   ]
  },
  {
   "cell_type": "code",
   "execution_count": 11,
   "metadata": {
    "pycharm": {
     "is_executing": false,
     "name": "#%%\n"
    }
   },
   "outputs": [
    {
     "name": "stdout",
     "output_type": "stream",
     "text": [
      "Most Informative Features\n",
      "                 mediocr = True           Negati : Positi =     15.8 : 1.0\n",
      "                 refresh = True           Positi : Negati =     15.5 : 1.0\n",
      "                    bore = True           Negati : Positi =     14.7 : 1.0\n",
      "                   intim = True           Positi : Negati =     13.6 : 1.0\n",
      "                    flat = True           Negati : Positi =     13.1 : 1.0\n",
      "            refreshingli = True           Positi : Negati =     12.9 : 1.0\n",
      "                  suppos = True           Negati : Positi =     12.4 : 1.0\n",
      "                 realist = True           Positi : Negati =     12.2 : 1.0\n",
      "                 engross = True           Positi : Negati =     12.2 : 1.0\n",
      "                    dull = True           Negati : Positi =     12.0 : 1.0\n",
      "                   appar = True           Negati : Positi =     11.8 : 1.0\n",
      "                  stupid = True           Negati : Positi =     10.7 : 1.0\n",
      "                   solid = True           Positi : Negati =     10.6 : 1.0\n",
      "                    wast = True           Negati : Positi =     10.5 : 1.0\n",
      "                     car = True           Negati : Positi =     10.4 : 1.0\n",
      "                  warmth = True           Positi : Negati =     10.3 : 1.0\n",
      "                  offens = True           Negati : Positi =      9.7 : 1.0\n",
      "                 quietli = True           Positi : Negati =      9.6 : 1.0\n",
      "                  embrac = True           Positi : Negati =      9.6 : 1.0\n",
      "                  routin = True           Negati : Positi =      9.5 : 1.0\n"
     ]
    }
   ],
   "source": [
    "classifier.show_most_informative_features(20)"
   ]
  },
  {
   "cell_type": "markdown",
   "metadata": {},
   "source": [
    "# Performance evaluation\n",
    "##### Test set accuracy"
   ]
  },
  {
   "cell_type": "code",
   "execution_count": 12,
   "metadata": {
    "pycharm": {
     "is_executing": false,
     "name": "#%%\n"
    }
   },
   "outputs": [
    {
     "name": "stdout",
     "output_type": "stream",
     "text": [
      "Test set accuracy: 76.59%\n"
     ]
    }
   ],
   "source": [
    "test_accuracy = nltk.classify.accuracy(classifier, dataset.tst)\n",
    "print(f\"Test set accuracy: {test_accuracy * 100:.2f}%\")"
   ]
  },
  {
   "cell_type": "markdown",
   "metadata": {
    "pycharm": {
     "is_executing": false,
     "name": "#%% md\n"
    }
   },
   "source": [
    "# Deployment\n",
    "##### Example prediction"
   ]
  },
  {
   "cell_type": "code",
   "execution_count": 13,
   "metadata": {
    "pycharm": {
     "is_executing": false,
     "name": "#%%\n"
    }
   },
   "outputs": [
    {
     "name": "stdout",
     "output_type": "stream",
     "text": [
      "Sentence \"This movie was boring...\" is classified as Negative\n"
     ]
    }
   ],
   "source": [
    "input_text = \"This movie was boring...\"\n",
    "\n",
    "def predict(movie_review_string):\n",
    "    model_input = tokens_to_model_input(process_string_to_tokens(movie_review_string))\n",
    "    return classifier.classify(model_input)\n",
    "\n",
    "predicted_label = predict(input_text)\n",
    "print(f'Sentence \"{input_text}\" is classified as {predicted_label}')"
   ]
  }
 ],
 "metadata": {
  "kernelspec": {
   "display_name": "Python 3",
   "language": "python",
   "name": "python3"
  },
  "language_info": {
   "codemirror_mode": {
    "name": "ipython",
    "version": 3
   },
   "file_extension": ".py",
   "mimetype": "text/x-python",
   "name": "python",
   "nbconvert_exporter": "python",
   "pygments_lexer": "ipython3",
   "version": "3.7.1"
  },
  "pycharm": {
   "stem_cell": {
    "cell_type": "raw",
    "metadata": {
     "collapsed": false
    },
    "source": []
   }
  }
 },
 "nbformat": 4,
 "nbformat_minor": 1
}
